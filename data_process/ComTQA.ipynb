{
 "cells": [
  {
   "cell_type": "code",
   "execution_count": 1,
   "id": "initial_id",
   "metadata": {
    "collapsed": true,
    "ExecuteTime": {
     "end_time": "2024-08-15T06:55:07.381628Z",
     "start_time": "2024-08-15T06:55:07.351603Z"
    }
   },
   "outputs": [],
   "source": [
    "import json\n",
    "import os.path\n",
    "\n",
    "with open(\"../data/ComTQA/annotation.json\") as f:\n",
    "    data = json.load(f)"
   ]
  },
  {
   "cell_type": "code",
   "outputs": [
    {
     "data": {
      "text/plain": "9070"
     },
     "execution_count": 2,
     "metadata": {},
     "output_type": "execute_result"
    }
   ],
   "source": [
    "len(data)"
   ],
   "metadata": {
    "collapsed": false,
    "ExecuteTime": {
     "end_time": "2024-08-15T06:55:07.400767Z",
     "start_time": "2024-08-15T06:55:07.386845Z"
    }
   },
   "id": "d1bc31e2e6f408f2",
   "execution_count": 2
  },
  {
   "cell_type": "code",
   "outputs": [
    {
     "name": "stdout",
     "output_type": "stream",
     "text": [
      "{'image_name': 'PMC1079905_table_1.jpg', 'question': 'What is the third function of the vasa vasorum?', 'answer': 'Substrates of native LDL-cholesterol and modified LDL-cholesterol \\n Substrates of phospholipids from systemic circulating cells', 'dataset': 'PubTab1M'}\n",
      "{'image_name': 'PMC1164435_table_2.jpg', 'question': 'How many rows are there in the table?', 'answer': '38', 'dataset': 'PubTab1M'}\n",
      "{'image_name': 'PMC1083419_table_2.jpg', 'question': 'What is the median time off work for a 1-year-old child with a severe allergic reaction?', 'answer': '0', 'dataset': 'PubTab1M'}\n",
      "{'question': 'What was the end-of-year ratio of fixed-to-floating debt in 2013?', 'answer': '75/25', 'dataset': 'FinTabNet', 'table_id': '23040'}\n",
      "{'image_name': 'PMC1156872_table_2.jpg', 'question': 'What is the incidence of dysplasia in the group treated with AOM/DSS and 0.05% Befibrate?', 'answer': '80%', 'dataset': 'PubTab1M'}\n",
      "{'image_name': 'PMC1065112_table_0.jpg', 'question': 'What was the least common comorbidity in the patients who failed to wean?', 'answer': 'Cancer metastatic to lung', 'dataset': 'PubTab1M'}\n",
      "{'image_name': 'PMC1064897_table_0.jpg', 'question': 'What is the percentage of T lymphocytes in the synovial tissue of mice with arthritis?', 'answer': '5.0 ± 1.0%', 'dataset': 'PubTab1M'}\n",
      "{'image_name': 'PMC1112587_table_4.jpg', 'question': 'What is the title of the table?', 'answer': 'Brood size analysis of kin-29 alleles', 'dataset': 'PubTab1M'}\n",
      "{'image_name': 'PMC1084361_table_2.jpg', 'question': 'What is the EC number of the pyrroline carboxylate reductase?', 'answer': '1.5.1.2', 'dataset': 'PubTab1M'}\n",
      "{'image_name': 'PMC1097745_table_0.jpg', 'question': 'What was the mean systolic blood pressure of the patients?', 'answer': '121 mmHg', 'dataset': 'PubTab1M'}\n"
     ]
    }
   ],
   "source": [
    "for item in data[:10]:\n",
    "    print(item)"
   ],
   "metadata": {
    "collapsed": false,
    "ExecuteTime": {
     "end_time": "2024-08-15T06:55:15.003989Z",
     "start_time": "2024-08-15T06:55:14.996806Z"
    }
   },
   "id": "fd41cce5699a6823",
   "execution_count": 3
  },
  {
   "cell_type": "code",
   "outputs": [
    {
     "data": {
      "text/plain": "2838"
     },
     "execution_count": 5,
     "metadata": {},
     "output_type": "execute_result"
    }
   ],
   "source": [
    "cnt = 0\n",
    "for item in data:\n",
    "    dataset = item[\"dataset\"]\n",
    "    if dataset == 'PubTab1M':\n",
    "        pass\n",
    "    elif dataset == 'FinTabNet':\n",
    "        cnt += 1\n",
    "    else:\n",
    "        print(item)\n",
    "cnt"
   ],
   "metadata": {
    "collapsed": false,
    "ExecuteTime": {
     "end_time": "2024-08-15T07:02:10.981001Z",
     "start_time": "2024-08-15T07:02:10.963861Z"
    }
   },
   "id": "a5d38953f9574815",
   "execution_count": 5
  },
  {
   "cell_type": "code",
   "outputs": [
    {
     "name": "stderr",
     "output_type": "stream",
     "text": [
      "Exception ignored in: <bound method IPythonKernel._clean_thread_parent_frames of <ipykernel.ipkernel.IPythonKernel object at 0x7f3e26267910>>\n",
      "Traceback (most recent call last):\n",
      "  File \"/root/anaconda3/envs/llava/lib/python3.10/site-packages/ipykernel/ipkernel.py\", line 775, in _clean_thread_parent_frames\n",
      "    def _clean_thread_parent_frames(\n",
      "KeyboardInterrupt: \n"
     ]
    }
   ],
   "source": [
    "import jsonlines\n",
    "\n",
    "with open(\"../data/ComTQA/fintabnet/FinTabNet_1.0.0_table_test.jsonl\") as f:\n",
    "    data = jsonlines.Reader(f)\n",
    "    data = list(data)"
   ],
   "metadata": {
    "collapsed": false,
    "ExecuteTime": {
     "end_time": "2024-08-15T08:15:59.088149Z",
     "start_time": "2024-08-15T08:15:38.352180Z"
    }
   },
   "id": "89ef83b1bfa08de9",
   "execution_count": 10
  },
  {
   "cell_type": "code",
   "outputs": [
    {
     "data": {
      "text/plain": "7085"
     },
     "execution_count": 11,
     "metadata": {},
     "output_type": "execute_result"
    }
   ],
   "source": [
    "len(data)"
   ],
   "metadata": {
    "collapsed": false,
    "ExecuteTime": {
     "end_time": "2024-08-15T08:15:59.102013Z",
     "start_time": "2024-08-15T08:15:59.091656Z"
    }
   },
   "id": "d1be512362b7c7e4",
   "execution_count": 11
  },
  {
   "cell_type": "code",
   "outputs": [
    {
     "name": "stdout",
     "output_type": "stream",
     "text": [
      "{'bbox': [115.9402, 602.0382000000001, 484.045024, 707.40584],\n",
      " 'filename': 'HAL/2009/page_77.pdf',\n",
      " 'html': {'cells': [{'tokens': []},\n",
      "                    {'bbox': [377.35, 694.31, 430.91, 704.28],\n",
      "                     'tokens': ['D',\n",
      "                                'e',\n",
      "                                'c',\n",
      "                                'e',\n",
      "                                'm',\n",
      "                                'b',\n",
      "                                'e',\n",
      "                                'r',\n",
      "                                ' ',\n",
      "                                '3',\n",
      "                                '1']},\n",
      "                    {'bbox': [115.94, 680.75, 190.3, 690.72],\n",
      "                     'tokens': ['M',\n",
      "                                'i',\n",
      "                                'l',\n",
      "                                'l',\n",
      "                                'i',\n",
      "                                'o',\n",
      "                                'n',\n",
      "                                's',\n",
      "                                ' ',\n",
      "                                'o',\n",
      "                                'f',\n",
      "                                ' ',\n",
      "                                'd',\n",
      "                                'o',\n",
      "                                'l',\n",
      "                                'l',\n",
      "                                'a',\n",
      "                                'r',\n",
      "                                's']},\n",
      "                    {'bbox': [332.23, 680.75, 352.33, 690.72],\n",
      "                     'tokens': ['2', '0', '0', '9']},\n",
      "                    {'bbox': [394.03, 680.75, 414.14, 690.72],\n",
      "                     'tokens': ['2', '0', '0', '8']},\n",
      "                    {'bbox': [455.98, 680.75, 476.09, 690.72],\n",
      "                     'tokens': ['2', '0', '0', '7']},\n",
      "                    {'bbox': [115.94, 667.07, 168.9, 677.04],\n",
      "                     'tokens': ['T',\n",
      "                                'o',\n",
      "                                't',\n",
      "                                'a',\n",
      "                                'l',\n",
      "                                ' ',\n",
      "                                'a',\n",
      "                                's',\n",
      "                                's',\n",
      "                                'e',\n",
      "                                't',\n",
      "                                's',\n",
      "                                ':']},\n",
      "                    {'tokens': []},\n",
      "                    {'tokens': []},\n",
      "                    {'tokens': []},\n",
      "                    {'bbox': [115.94, 654.23, 226.43, 664.2],\n",
      "                     'tokens': ['C',\n",
      "                                'o',\n",
      "                                'm',\n",
      "                                'p',\n",
      "                                'l',\n",
      "                                'e',\n",
      "                                't',\n",
      "                                'i',\n",
      "                                'o',\n",
      "                                'n',\n",
      "                                ' ',\n",
      "                                'a',\n",
      "                                'n',\n",
      "                                'd',\n",
      "                                ' ',\n",
      "                                'P',\n",
      "                                'r',\n",
      "                                'o',\n",
      "                                'd',\n",
      "                                'u',\n",
      "                                'c',\n",
      "                                't',\n",
      "                                'i',\n",
      "                                'o',\n",
      "                                'n']},\n",
      "                    {'bbox': [323.83, 654.23, 357.83, 664.2],\n",
      "                     'tokens': ['$', '5', ',', '9', '2', '0']},\n",
      "                    {'bbox': [385.63, 654.23, 419.63, 664.2],\n",
      "                     'tokens': ['$', '5', ',', '9', '3', '6']},\n",
      "                    {'bbox': [447.58, 654.23, 481.61, 664.2],\n",
      "                     'tokens': ['$', '4', ',', '7', '6', '3']},\n",
      "                    {'bbox': [115.94, 641.27, 210.32, 651.24],\n",
      "                     'tokens': ['D',\n",
      "                                'r',\n",
      "                                'i',\n",
      "                                'l',\n",
      "                                'l',\n",
      "                                'i',\n",
      "                                'n',\n",
      "                                'g',\n",
      "                                ' ',\n",
      "                                'a',\n",
      "                                'n',\n",
      "                                'd',\n",
      "                                ' ',\n",
      "                                'E',\n",
      "                                'v',\n",
      "                                'a',\n",
      "                                'l',\n",
      "                                'u',\n",
      "                                'a',\n",
      "                                't',\n",
      "                                'i',\n",
      "                                'o',\n",
      "                                'n']},\n",
      "                    {'bbox': [335.23, 641.27, 357.82, 651.24],\n",
      "                     'tokens': ['6', ',', '2', '0', '4']},\n",
      "                    {'bbox': [397.03, 641.27, 419.62, 651.24],\n",
      "                     'tokens': ['6', ',', '2', '0', '5']},\n",
      "                    {'bbox': [458.98, 641.27, 481.61, 651.24],\n",
      "                     'tokens': ['4', ',', '6', '8', '5']},\n",
      "                    {'bbox': [115.94, 628.31, 169.48, 638.28],\n",
      "                     'tokens': ['S',\n",
      "                                'h',\n",
      "                                'a',\n",
      "                                'r',\n",
      "                                'e',\n",
      "                                'd',\n",
      "                                ' ',\n",
      "                                'a',\n",
      "                                's',\n",
      "                                's',\n",
      "                                'e',\n",
      "                                't',\n",
      "                                's']},\n",
      "                    {'bbox': [342.79, 628.31, 357.85, 638.28],\n",
      "                     'tokens': ['9', '1', '4']},\n",
      "                    {'bbox': [404.59, 628.31, 419.65, 638.28],\n",
      "                     'tokens': ['6', '4', '8']},\n",
      "                    {'bbox': [466.54, 628.31, 481.6, 638.28],\n",
      "                     'tokens': ['6', '7', '2']},\n",
      "                    {'bbox': [115.94, 615.23, 195.86, 625.2],\n",
      "                     'tokens': ['C',\n",
      "                                'o',\n",
      "                                'r',\n",
      "                                'p',\n",
      "                                'o',\n",
      "                                'r',\n",
      "                                'a',\n",
      "                                't',\n",
      "                                'e',\n",
      "                                ' ',\n",
      "                                'a',\n",
      "                                'n',\n",
      "                                'd',\n",
      "                                ' ',\n",
      "                                'o',\n",
      "                                't',\n",
      "                                'h',\n",
      "                                'e',\n",
      "                                'r']},\n",
      "                    {'bbox': [335.23, 615.23, 357.82, 625.2],\n",
      "                     'tokens': ['3', ',', '5', '0', '0']},\n",
      "                    {'bbox': [397.03, 615.23, 419.62, 625.2],\n",
      "                     'tokens': ['1', ',', '5', '9', '6']},\n",
      "                    {'bbox': [458.98, 615.23, 481.57, 625.2],\n",
      "                     'tokens': ['3', ',', '0', '1', '5']},\n",
      "                    {'bbox': [115.94, 602.03, 137.17, 612.0],\n",
      "                     'tokens': ['T', 'o', 't', 'a', 'l']},\n",
      "                    {'bbox': [323.83, 602.03, 357.83, 612.0],\n",
      "                     'tokens': ['$', '1', '6', ',', '5', '3', '8']},\n",
      "                    {'bbox': [385.63, 602.03, 419.63, 612.0],\n",
      "                     'tokens': ['$', '1', '4', ',', '3', '8', '5']},\n",
      "                    {'bbox': [447.58, 602.03, 481.58, 612.0],\n",
      "                     'tokens': ['$', '1', '3', ',', '1', '3', '5']}],\n",
      "          'structure': {'tokens': ['<table>',\n",
      "                                   '<tr>',\n",
      "                                   '<td>',\n",
      "                                   '</td>',\n",
      "                                   '<td',\n",
      "                                   ' colspan=\"3\"',\n",
      "                                   '>',\n",
      "                                   '</td>',\n",
      "                                   '</tr>',\n",
      "                                   '<tr>',\n",
      "                                   '<td>',\n",
      "                                   '</td>',\n",
      "                                   '<td>',\n",
      "                                   '</td>',\n",
      "                                   '<td>',\n",
      "                                   '</td>',\n",
      "                                   '<td>',\n",
      "                                   '</td>',\n",
      "                                   '</tr>',\n",
      "                                   '<tr>',\n",
      "                                   '<td>',\n",
      "                                   '</td>',\n",
      "                                   '<td>',\n",
      "                                   '</td>',\n",
      "                                   '<td>',\n",
      "                                   '</td>',\n",
      "                                   '<td>',\n",
      "                                   '</td>',\n",
      "                                   '</tr>',\n",
      "                                   '<tr>',\n",
      "                                   '<td>',\n",
      "                                   '</td>',\n",
      "                                   '<td>',\n",
      "                                   '</td>',\n",
      "                                   '<td>',\n",
      "                                   '</td>',\n",
      "                                   '<td>',\n",
      "                                   '</td>',\n",
      "                                   '</tr>',\n",
      "                                   '<tr>',\n",
      "                                   '<td>',\n",
      "                                   '</td>',\n",
      "                                   '<td>',\n",
      "                                   '</td>',\n",
      "                                   '<td>',\n",
      "                                   '</td>',\n",
      "                                   '<td>',\n",
      "                                   '</td>',\n",
      "                                   '</tr>',\n",
      "                                   '<tr>',\n",
      "                                   '<td>',\n",
      "                                   '</td>',\n",
      "                                   '<td>',\n",
      "                                   '</td>',\n",
      "                                   '<td>',\n",
      "                                   '</td>',\n",
      "                                   '<td>',\n",
      "                                   '</td>',\n",
      "                                   '</tr>',\n",
      "                                   '<tr>',\n",
      "                                   '<td>',\n",
      "                                   '</td>',\n",
      "                                   '<td>',\n",
      "                                   '</td>',\n",
      "                                   '<td>',\n",
      "                                   '</td>',\n",
      "                                   '<td>',\n",
      "                                   '</td>',\n",
      "                                   '</tr>',\n",
      "                                   '<tr>',\n",
      "                                   '<td>',\n",
      "                                   '</td>',\n",
      "                                   '<td>',\n",
      "                                   '</td>',\n",
      "                                   '<td>',\n",
      "                                   '</td>',\n",
      "                                   '<td>',\n",
      "                                   '</td>',\n",
      "                                   '</tr>',\n",
      "                                   '</table>']}},\n",
      " 'split': 'test',\n",
      " 'table_id': 125051}\n"
     ]
    }
   ],
   "source": [
    "from pprint import pprint\n",
    "\n",
    "pprint(data[0])"
   ],
   "metadata": {
    "collapsed": false,
    "ExecuteTime": {
     "end_time": "2024-08-15T08:15:59.121152Z",
     "start_time": "2024-08-15T08:15:59.106219Z"
    }
   },
   "id": "754de981c64f461c",
   "execution_count": 12
  },
  {
   "cell_type": "code",
   "outputs": [
    {
     "name": "stdout",
     "output_type": "stream",
     "text": [
      "../data/ComTQA/fintabnet/pdf/HAL/2015/page_43.pdf\n",
      "HAL/2015/page_43.pdf\n"
     ]
    }
   ],
   "source": [
    "import json\n",
    "import fitz  # PyMuPDF\n",
    "import os\n",
    "from PIL import Image\n",
    "\n",
    "def load_annotations(jsonl_file):\n",
    "    annotations = []\n",
    "    with open(jsonl_file, 'r') as f:\n",
    "        for line in f:\n",
    "            annotations.append(json.loads(line))\n",
    "    return annotations\n",
    "\n",
    "\n",
    "def crop_table_from_pdf(pdf_path, table_annotations, output_folder):\n",
    "    for i, annotation in enumerate(table_annotations):\n",
    "        filepath = os.path.join(pdf_path, annotation['filename'])\n",
    "        doc = fitz.open(filepath)\n",
    "        print(filepath)\n",
    "        print(annotation['filename'])\n",
    "        table_id = annotation['table_id']\n",
    "        page_index = table_id - 1  # Assuming table_id is 1-based and corresponds to page number\n",
    "        page = doc[0]\n",
    "        bbox = annotation[\"bbox\"]\n",
    "        x0 = bbox[0]\n",
    "        y0 = bbox[1]\n",
    "        x1 = bbox[2]\n",
    "        y1 = bbox[3]\n",
    "        pix = page.get_pixmap(clip=fitz.Rect(bbox))\n",
    "        img = Image.frombytes(\"RGB\", [pix.width, pix.height], pix.samples)\n",
    "        img.save(f\"./table_{table_id}.png\")\n",
    "        # cells = annotation['html']['cells']\n",
    "        # if cells:\n",
    "        #     x0, y0, x1, y1 = float('inf'), float('inf'), float('-inf'), float('-inf')\n",
    "        #     for cell in cells:\n",
    "        #         bbox = cell['bbox']\n",
    "        #         x0 = min(x0, bbox[0])\n",
    "        #         y0 = min(y0, bbox[1])\n",
    "        #         x1 = max(x1, bbox[2])\n",
    "        #         y1 = max(y1, bbox[3])\n",
    "        #     \n",
    "        #     # Crop the table image\n",
    "        #     pix = page.get_pixmap(clip=fitz.Rect(x0, y0, x1, y1))\n",
    "        #     img = Image.frombytes(\"RGB\", [pix.width, pix.height], pix.samples)\n",
    "        #     img.save(f\"{output_folder}/table_{table_id}.png\")\n",
    "        break\n",
    "\n",
    "    doc.close()\n",
    "\n",
    "\n",
    "# Example usage\n",
    "jsonl_file = '../data/ComTQA/fintabnet/FinTabNet_1.0.0_cell_test.jsonl'\n",
    "\n",
    "pdf_path = '../data/ComTQA/fintabnet/pdf'\n",
    "output_folder = 'cropped_tables'\n",
    "\n",
    "annotations = load_annotations(jsonl_file)\n",
    "crop_table_from_pdf(pdf_path, annotations, output_folder)"
   ],
   "metadata": {
    "collapsed": false
   },
   "id": "6b1805334f1337e1",
   "execution_count": 8
  },
  {
   "cell_type": "code",
   "outputs": [],
   "source": [],
   "metadata": {
    "collapsed": false
   },
   "id": "4de229f583214328"
  }
 ],
 "metadata": {
  "kernelspec": {
   "display_name": "Python 3",
   "language": "python",
   "name": "python3"
  },
  "language_info": {
   "codemirror_mode": {
    "name": "ipython",
    "version": 2
   },
   "file_extension": ".py",
   "mimetype": "text/x-python",
   "name": "python",
   "nbconvert_exporter": "python",
   "pygments_lexer": "ipython2",
   "version": "2.7.6"
  }
 },
 "nbformat": 4,
 "nbformat_minor": 5
}
