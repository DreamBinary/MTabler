{
 "cells": [
  {
   "cell_type": "code",
   "execution_count": null,
   "id": "initial_id",
   "metadata": {
    "collapsed": true
   },
   "outputs": [],
   "source": []
  },
  {
   "cell_type": "code",
   "outputs": [],
   "source": [
    "import pandas as pd\n",
    "\n",
    "# 读取Parquet文件\n",
    "df = pd.read_parquet('data/fintabnetqa-00000-of-00001-c337fe9eb7a70460.parquet')"
   ],
   "metadata": {
    "collapsed": false,
    "ExecuteTime": {
     "end_time": "2024-08-16T10:17:27.748580Z",
     "start_time": "2024-08-16T10:17:27.121153Z"
    }
   },
   "id": "455332fdd3813aa9",
   "execution_count": 1
  },
  {
   "cell_type": "code",
   "outputs": [
    {
     "data": {
      "text/plain": "                              qa_id  \\\n0      DOV_2014_page_13.pdf149186_1   \n1     ISRG_2004_page_72.pdf102829_0   \n2     VRSN_2006_page_225.pdf90664_0   \n3      KEY_2015_page_210.pdf98346_0   \n4       MKC_2013_page_41.pdf58142_2   \n..                              ...   \n245  JNPR_2011_page_113.pdf110684_1   \n246    UNM_2018_page_205.pdf45223_1   \n247    PNR_2014_page_134.pdf87106_4   \n248     MKC_2013_page_58.pdf58185_2   \n249     SBAC_2007_page_45.pdf8005_2   \n\n                                                 image  \\\n0    {'bytes': b'\\xff\\xd8\\xff\\xe0\\x00\\x10JFIF\\x00\\x...   \n1    {'bytes': b'\\xff\\xd8\\xff\\xe0\\x00\\x10JFIF\\x00\\x...   \n2    {'bytes': b'\\xff\\xd8\\xff\\xe0\\x00\\x10JFIF\\x00\\x...   \n3    {'bytes': b'\\xff\\xd8\\xff\\xe0\\x00\\x10JFIF\\x00\\x...   \n4    {'bytes': b'\\xff\\xd8\\xff\\xe0\\x00\\x10JFIF\\x00\\x...   \n..                                                 ...   \n245  {'bytes': b'\\xff\\xd8\\xff\\xe0\\x00\\x10JFIF\\x00\\x...   \n246  {'bytes': b'\\xff\\xd8\\xff\\xe0\\x00\\x10JFIF\\x00\\x...   \n247  {'bytes': b'\\xff\\xd8\\xff\\xe0\\x00\\x10JFIF\\x00\\x...   \n248  {'bytes': b'\\xff\\xd8\\xff\\xe0\\x00\\x10JFIF\\x00\\x...   \n249  {'bytes': b'\\xff\\xd8\\xff\\xe0\\x00\\x10JFIF\\x00\\x...   \n\n                                              question text_markdown_table  \\\n0    What is the end market for the Engineered Syst...                None   \n1    What was the average risk free interest rate f...                None   \n2    What was the volatility for stock options in t...                None   \n3    What was the future dividend yield for the yea...                None   \n4    What are the total contractual cash obligation...                None   \n..                                                 ...                 ...   \n245  What is the File Date of the \"Sub-plan to the ...                None   \n246  What is the weighted average exercise price of...                None   \n247  What was the ending balance for the year ended...                None   \n248  What was the value of the deferred income tax ...                None   \n249  What is the total amount due for interest paym...                None   \n\n                                       text_html_table  \\\n0    <table><tr><td>Segment</td><td>End Market</td>...   \n1    <table><tr><td></td><td colspan=\"3\"> Year Ende...   \n2    <table><tr><td></td><td colspan=\"3\"> Year Ende...   \n3    <table><tr><td> Year ended December 31,</td><t...   \n4    <table><tr><td></td><td>Total</td><td>Less tha...   \n..                                                 ...   \n245  <table><tr><td></td><td></td><td colspan=\"4\">I...   \n246  <table><tr><td>Plan Category</td><td>(a) Numbe...   \n247  <table><tr><td>In millions</td><td>Beginningba...   \n248  <table><tr><td></td><td colspan=\"2\">United Sta...   \n249  <table><tr><td></td><td colspan=\"5\"> Payment d...   \n\n                                          gt  \n0    Printing & Identification, Industrials.  \n1                                      3.14%  \n2                                        39%  \n3                                      1.84%  \n4                                     $641.8  \n..                                       ...  \n245                                 3/2/2009  \n246                                   $24.41  \n247                            $58.7 million  \n248                            $15.7 million  \n249                                 $184,039  \n\n[250 rows x 6 columns]",
      "text/html": "<div>\n<style scoped>\n    .dataframe tbody tr th:only-of-type {\n        vertical-align: middle;\n    }\n\n    .dataframe tbody tr th {\n        vertical-align: top;\n    }\n\n    .dataframe thead th {\n        text-align: right;\n    }\n</style>\n<table border=\"1\" class=\"dataframe\">\n  <thead>\n    <tr style=\"text-align: right;\">\n      <th></th>\n      <th>qa_id</th>\n      <th>image</th>\n      <th>question</th>\n      <th>text_markdown_table</th>\n      <th>text_html_table</th>\n      <th>gt</th>\n    </tr>\n  </thead>\n  <tbody>\n    <tr>\n      <th>0</th>\n      <td>DOV_2014_page_13.pdf149186_1</td>\n      <td>{'bytes': b'\\xff\\xd8\\xff\\xe0\\x00\\x10JFIF\\x00\\x...</td>\n      <td>What is the end market for the Engineered Syst...</td>\n      <td>None</td>\n      <td>&lt;table&gt;&lt;tr&gt;&lt;td&gt;Segment&lt;/td&gt;&lt;td&gt;End Market&lt;/td&gt;...</td>\n      <td>Printing &amp; Identification, Industrials.</td>\n    </tr>\n    <tr>\n      <th>1</th>\n      <td>ISRG_2004_page_72.pdf102829_0</td>\n      <td>{'bytes': b'\\xff\\xd8\\xff\\xe0\\x00\\x10JFIF\\x00\\x...</td>\n      <td>What was the average risk free interest rate f...</td>\n      <td>None</td>\n      <td>&lt;table&gt;&lt;tr&gt;&lt;td&gt;&lt;/td&gt;&lt;td colspan=\"3\"&gt; Year Ende...</td>\n      <td>3.14%</td>\n    </tr>\n    <tr>\n      <th>2</th>\n      <td>VRSN_2006_page_225.pdf90664_0</td>\n      <td>{'bytes': b'\\xff\\xd8\\xff\\xe0\\x00\\x10JFIF\\x00\\x...</td>\n      <td>What was the volatility for stock options in t...</td>\n      <td>None</td>\n      <td>&lt;table&gt;&lt;tr&gt;&lt;td&gt;&lt;/td&gt;&lt;td colspan=\"3\"&gt; Year Ende...</td>\n      <td>39%</td>\n    </tr>\n    <tr>\n      <th>3</th>\n      <td>KEY_2015_page_210.pdf98346_0</td>\n      <td>{'bytes': b'\\xff\\xd8\\xff\\xe0\\x00\\x10JFIF\\x00\\x...</td>\n      <td>What was the future dividend yield for the yea...</td>\n      <td>None</td>\n      <td>&lt;table&gt;&lt;tr&gt;&lt;td&gt; Year ended December 31,&lt;/td&gt;&lt;t...</td>\n      <td>1.84%</td>\n    </tr>\n    <tr>\n      <th>4</th>\n      <td>MKC_2013_page_41.pdf58142_2</td>\n      <td>{'bytes': b'\\xff\\xd8\\xff\\xe0\\x00\\x10JFIF\\x00\\x...</td>\n      <td>What are the total contractual cash obligation...</td>\n      <td>None</td>\n      <td>&lt;table&gt;&lt;tr&gt;&lt;td&gt;&lt;/td&gt;&lt;td&gt;Total&lt;/td&gt;&lt;td&gt;Less tha...</td>\n      <td>$641.8</td>\n    </tr>\n    <tr>\n      <th>...</th>\n      <td>...</td>\n      <td>...</td>\n      <td>...</td>\n      <td>...</td>\n      <td>...</td>\n      <td>...</td>\n    </tr>\n    <tr>\n      <th>245</th>\n      <td>JNPR_2011_page_113.pdf110684_1</td>\n      <td>{'bytes': b'\\xff\\xd8\\xff\\xe0\\x00\\x10JFIF\\x00\\x...</td>\n      <td>What is the File Date of the \"Sub-plan to the ...</td>\n      <td>None</td>\n      <td>&lt;table&gt;&lt;tr&gt;&lt;td&gt;&lt;/td&gt;&lt;td&gt;&lt;/td&gt;&lt;td colspan=\"4\"&gt;I...</td>\n      <td>3/2/2009</td>\n    </tr>\n    <tr>\n      <th>246</th>\n      <td>UNM_2018_page_205.pdf45223_1</td>\n      <td>{'bytes': b'\\xff\\xd8\\xff\\xe0\\x00\\x10JFIF\\x00\\x...</td>\n      <td>What is the weighted average exercise price of...</td>\n      <td>None</td>\n      <td>&lt;table&gt;&lt;tr&gt;&lt;td&gt;Plan Category&lt;/td&gt;&lt;td&gt;(a) Numbe...</td>\n      <td>$24.41</td>\n    </tr>\n    <tr>\n      <th>247</th>\n      <td>PNR_2014_page_134.pdf87106_4</td>\n      <td>{'bytes': b'\\xff\\xd8\\xff\\xe0\\x00\\x10JFIF\\x00\\x...</td>\n      <td>What was the ending balance for the year ended...</td>\n      <td>None</td>\n      <td>&lt;table&gt;&lt;tr&gt;&lt;td&gt;In millions&lt;/td&gt;&lt;td&gt;Beginningba...</td>\n      <td>$58.7 million</td>\n    </tr>\n    <tr>\n      <th>248</th>\n      <td>MKC_2013_page_58.pdf58185_2</td>\n      <td>{'bytes': b'\\xff\\xd8\\xff\\xe0\\x00\\x10JFIF\\x00\\x...</td>\n      <td>What was the value of the deferred income tax ...</td>\n      <td>None</td>\n      <td>&lt;table&gt;&lt;tr&gt;&lt;td&gt;&lt;/td&gt;&lt;td colspan=\"2\"&gt;United Sta...</td>\n      <td>$15.7 million</td>\n    </tr>\n    <tr>\n      <th>249</th>\n      <td>SBAC_2007_page_45.pdf8005_2</td>\n      <td>{'bytes': b'\\xff\\xd8\\xff\\xe0\\x00\\x10JFIF\\x00\\x...</td>\n      <td>What is the total amount due for interest paym...</td>\n      <td>None</td>\n      <td>&lt;table&gt;&lt;tr&gt;&lt;td&gt;&lt;/td&gt;&lt;td colspan=\"5\"&gt; Payment d...</td>\n      <td>$184,039</td>\n    </tr>\n  </tbody>\n</table>\n<p>250 rows × 6 columns</p>\n</div>"
     },
     "execution_count": 2,
     "metadata": {},
     "output_type": "execute_result"
    }
   ],
   "source": [
    "df"
   ],
   "metadata": {
    "collapsed": false,
    "ExecuteTime": {
     "end_time": "2024-08-16T10:17:29.449051Z",
     "start_time": "2024-08-16T10:17:29.396779Z"
    }
   },
   "id": "5cbdf67d7d26bc79",
   "execution_count": 2
  },
  {
   "cell_type": "code",
   "outputs": [
    {
     "name": "stdout",
     "output_type": "stream",
     "text": [
      "0\n",
      "1\n",
      "2\n",
      "3\n",
      "行数: 5\n",
      "列数: 4\n",
      "1.84%\n"
     ]
    }
   ],
   "source": [
    "from PIL import Image\n",
    "import io\n",
    "from bs4 import BeautifulSoup\n",
    "\n",
    "for index, row in df.iterrows():\n",
    "    print(index)\n",
    "    if index == 3:\n",
    "        bytes = row.image['bytes']\n",
    "        path  = row.image[\"path\"]\n",
    "        html = row.text_html_table\n",
    "        soup = BeautifulSoup(html, \"html.parser\")\n",
    "    \n",
    "        # 获取表格的所有行\n",
    "        rows = soup.find_all('tr')\n",
    "        row_count = len(rows)\n",
    "        \n",
    "        # 假设所有行的列数相同，取第一行的列数\n",
    "        col_count = len(rows[0].find_all('td'))\n",
    "        \n",
    "        print(f\"行数: {row_count}\")\n",
    "        print(f\"列数: {col_count}\")\n",
    "        img = Image.open(io.BytesIO(bytes))\n",
    "        img.save(path)\n",
    "        img.show()\n",
    "        print(row.loc['gt'])\n",
    "        break\n"
   ],
   "metadata": {
    "collapsed": false,
    "ExecuteTime": {
     "end_time": "2024-08-16T10:55:56.108354Z",
     "start_time": "2024-08-16T10:55:56.071360Z"
    }
   },
   "id": "26266595a4e0be28",
   "execution_count": 22
  },
  {
   "cell_type": "code",
   "outputs": [],
   "source": [],
   "metadata": {
    "collapsed": false
   },
   "id": "8cfbd4c4d836e2b3"
  }
 ],
 "metadata": {
  "kernelspec": {
   "display_name": "Python 3",
   "language": "python",
   "name": "python3"
  },
  "language_info": {
   "codemirror_mode": {
    "name": "ipython",
    "version": 2
   },
   "file_extension": ".py",
   "mimetype": "text/x-python",
   "name": "python",
   "nbconvert_exporter": "python",
   "pygments_lexer": "ipython2",
   "version": "2.7.6"
  }
 },
 "nbformat": 4,
 "nbformat_minor": 5
}
