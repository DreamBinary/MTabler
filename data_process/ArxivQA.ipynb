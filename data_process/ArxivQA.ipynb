{
 "cells": [
  {
   "cell_type": "code",
   "execution_count": 1,
   "id": "initial_id",
   "metadata": {
    "collapsed": true,
    "ExecuteTime": {
     "end_time": "2024-08-14T12:15:32.213320Z",
     "start_time": "2024-08-14T12:15:32.178546Z"
    }
   },
   "outputs": [],
   "source": [
    "import json\n",
    "\n",
    "with open(\"../data/ComTQA/annotation.json\") as f:\n",
    "    data = json.load(f)"
   ]
  },
  {
   "cell_type": "code",
   "outputs": [
    {
     "data": {
      "text/plain": "9070"
     },
     "execution_count": 2,
     "metadata": {},
     "output_type": "execute_result"
    }
   ],
   "source": [
    "len(data)"
   ],
   "metadata": {
    "collapsed": false,
    "ExecuteTime": {
     "end_time": "2024-08-14T12:15:34.218089Z",
     "start_time": "2024-08-14T12:15:34.208042Z"
    }
   },
   "id": "2ecef1f8af46c431",
   "execution_count": 2
  },
  {
   "cell_type": "code",
   "outputs": [
    {
     "name": "stdout",
     "output_type": "stream",
     "text": [
      "{'image_name': 'PMC1079905_table_1.jpg', 'question': 'What is the third function of the vasa vasorum?', 'answer': 'Substrates of native LDL-cholesterol and modified LDL-cholesterol \\n Substrates of phospholipids from systemic circulating cells', 'dataset': 'PubTab1M'}\n"
     ]
    }
   ],
   "source": [
    "print(data[0])"
   ],
   "metadata": {
    "collapsed": false,
    "ExecuteTime": {
     "end_time": "2024-08-14T12:15:51.980149Z",
     "start_time": "2024-08-14T12:15:51.974156Z"
    }
   },
   "id": "7c344845d9ed6bdc",
   "execution_count": 3
  },
  {
   "cell_type": "code",
   "outputs": [],
   "source": [
    "import jsonlines\n",
    "\n",
    "with open(\"../data/ArxivQA/arxivqa.jsonl\") as f:\n",
    "    data = jsonlines.Reader(f)\n",
    "    data = list(data)"
   ],
   "metadata": {
    "collapsed": false,
    "ExecuteTime": {
     "end_time": "2024-08-14T12:19:59.538299Z",
     "start_time": "2024-08-14T12:19:58.997739Z"
    }
   },
   "id": "96ac696af56ce93b",
   "execution_count": 8
  },
  {
   "cell_type": "code",
   "outputs": [
    {
     "data": {
      "text/plain": "100000"
     },
     "execution_count": 9,
     "metadata": {},
     "output_type": "execute_result"
    }
   ],
   "source": [
    "len(data)"
   ],
   "metadata": {
    "collapsed": false,
    "ExecuteTime": {
     "end_time": "2024-08-14T12:20:00.092718Z",
     "start_time": "2024-08-14T12:20:00.086540Z"
    }
   },
   "id": "68165062edfd778d",
   "execution_count": 9
  },
  {
   "cell_type": "code",
   "outputs": [
    {
     "data": {
      "text/plain": "{'id': 'cs-35249',\n 'image': 'images/1909.00157_3.jpg',\n 'options': ['The grammatical structure of the sentence.',\n  'The confidence in the word-level processing.',\n  'The overall length of the sentence.',\n  'The specific words used in the sentence.'],\n 'question': 'Based on the figure, which component is directly responsible for the change from the original to the modified attention weights?',\n 'label': 'B',\n 'rationale': 'The figure shows a middle step (b) labeled \"word-level confidence\" that influences the transition from the original attention weights (a) to the modified attention weights (c). This indicates that the word-level confidence is the factor responsible for the change.'}"
     },
     "execution_count": 17,
     "metadata": {},
     "output_type": "execute_result"
    }
   ],
   "source": [
    "data[1200]"
   ],
   "metadata": {
    "collapsed": false,
    "ExecuteTime": {
     "end_time": "2024-08-14T12:26:52.456437Z",
     "start_time": "2024-08-14T12:26:52.440493Z"
    }
   },
   "id": "60eb8f6cdba2f220",
   "execution_count": 17
  },
  {
   "cell_type": "code",
   "outputs": [
    {
     "name": "stdout",
     "output_type": "stream",
     "text": [
      "['(1,1)', '(2,0)', '(3,1)', '(4,0)']\n",
      "['Lattice graph', 'BA graph', 'Both graph types are equally close to reaching 100%.', 'The graph does not provide enough information to determine this.']\n",
      "['The interface between the solid and the fluid domains.', 'The 3D solid boundary region.', 'The 3D fluid interior governed by LB equations.', 'The 0D-3D boundary governed by ODE-type equations.']\n",
      "['The Boltzmann constant multiplied by temperature.', 'The kinetic energy of the system.', 'The potential energy barrier height.', \"The time constant for the system's evolution.\"]\n",
      "['It represents the experimental data for dR/dL < 0.', \"It denotes the theoretical prediction of the system's response at different frequencies.\", 'It indicates the input power in microwatts for the experiment.', 'It is a reference line for zero amplitude.']\n",
      "['Forte (f)', 'Piano (p)', 'Mezzo forte (mf)', 'Fortissimo (ff)']\n",
      "['Subfigure (a), because it shows the magnetic field distribution.', 'Subfigure (b), because it shows the magnetic field concentration in a narrow area.', \"Subfigure (c), because it shows a graph of reflectivity against wavelength with different values of 'd'.\", 'None of the subfigures show such a relationship.', '-']\n",
      "['\\\\( TR(t_1,t_2) \\\\) decreases linearly with \\\\( C(t_1,t_2)/C(t_1,t_1) \\\\)', '\\\\( TR(t_1,t_2) \\\\) increases exponentially with \\\\( C(t_1,t_2)/C(t_1,t_1) \\\\)', '\\\\( TR(t_1,t_2) \\\\) is directly proportional to \\\\( C(t_1,t_2)/C(t_1,t_1) \\\\)', '\\\\( TR(t_1,t_2) \\\\) is inversely proportional to \\\\( C(t_1,t_2)/C(t_1,t_1) \\\\)']\n",
      "['The data points converge into a narrower band.', 'The data points show a clear separation into distinct groups.', 'The data points become more scattered and diverse.', 'The data points stop abruptly, indicating an end of the dataset.']\n",
      "[\"The rate of increase in 'N' over time.\", 'A variable related to the connectivity of the network.', 'The threshold frequency of an event occurrence.', \"A scaling factor for the probability 'p'.\"]\n",
      "['It shows a polynomial decrease of \\\\(\\\\bar{M}\\\\) with increasing \\\\((\\\\phi t)^2\\\\).', 'It represents an initial rapid decrease of \\\\(\\\\bar{M}\\\\) followed by a slower decrease as \\\\((\\\\phi t)^2\\\\) increases.', 'It indicates a threshold point beyond which \\\\(\\\\bar{M}\\\\) increases with increasing \\\\((\\\\phi t)^2\\\\).', 'It depicts a constant increase in \\\\(\\\\bar{M}\\\\) as \\\\((\\\\phi t)^2\\\\) increases.']\n",
      "['A transfer of energy', 'A directional dependency', 'An evolutionary relationship', 'A chemical reaction']\n",
      "['Graph (a)', 'Graph (b)', 'Graph (c)', 'Graph (f)']\n",
      "['Hα', '[OIII]', '[NII]', '[SII]']\n",
      "[\"Higher 'N' values always result in symmetrical patterns.\", \"Lower 'N' values correlate with simpler particle distribution patterns.\", \"'N' has no significant impact on the particle distribution patterns.\", \"As 'N' increases, the particle distributions tend to become less localized.\"]\n",
      "['CNSS J0019+00', 'Sgr A*', 'AT2019dsg', 'Sw J1644+57', '-']\n",
      "['B = 600.0 G, δ = 3.6', 'B = 300.0 G, δ = 2.0', 'B = 500.0 G, δ = 4.0', 'B = 400.0 G, δ = 3.0']\n",
      "['At 0% corruption', 'Between 2% and 5% corruption', 'Between 10% and 15% corruption', 'At 20% corruption']\n",
      "['The network is undergoing a backpropagation phase, adjusting weights according to error.', 'The network is transitioning from training phase to testing phase.', 'The activation function is being applied to the input data.', 'The network is being initialized with random weights.']\n",
      "['K-11e', 'K-10b', 'K-36c', 'K-11f']\n",
      "['The setup that generated the left graph has a smaller slit separation compared to the right.', 'The setup that generated the left graph has a larger slit separation compared to the right.', 'Both setups have the same slit separation but different wavelengths of light.', 'Both setups used the same wavelength of light but different materials for the slits.']\n",
      "['Toluene', 'Methanol', 'ZnTPP/Toluene', 'RhB/Methanol']\n",
      "['It is the least massive of all fermions.', 'It is less massive than the neutrinos.', 'It is more massive than the electron but less than the tau.', 'It is the most massive of the fermions depicted.']\n",
      "['The range of standard error.', 'The optimal range for a certain condition.', 'The excluded region for the experiment.', 'The phase where no reaction occurs.']\n",
      "['The crossover frequency increases linearly with U_rms.', 'The crossover frequency has an exponential relationship with U_rms.', 'There is no clear relationship between the crossover frequency and U_rms.', 'The crossover frequency decreases as U_rms increases.']\n",
      "['Simulation with \\\\( m = 2, n = 4 \\\\)', 'Simulation with \\\\( m = 16, n = 32 \\\\)', 'Both simulations represent the population distribution equally.', 'Neither simulation represents the population distribution.']\n",
      "['It represents a reinforcing feedback loop that enhances the output of L8.', 'It denotes an error correction mechanism where L11 adjusts errors in L8.', 'It signifies a diminishing feedback loop that reduces the effectiveness of L8.', 'It illustrates an independent feedback that has no effect on L8.']\n",
      "['10^-4 m/s', '10^-3 m/s', '10^-2 m/s', '10^-1 m/s', '-']\n",
      "['The interface is completely smooth and flat.', 'There is a large gap between the WSe2 and Ag layers.', 'The interface shows signs of roughness or irregularity.', 'The WSe2 layer is suspended above the Ag without contact.']\n",
      "['It represents the origin of a coordinate system.', 'It is the focal point where all lines converge.', 'It signifies the optimal point of balance for the system.', 'It is a random point of no particular importance.']\n",
      "['Migrants cause an immediate stabilization in the fraction of cooperators.', 'The presence of migrants leads to a decrease in the fraction of cooperators.', 'The presence of migrants increases the variability in the fraction of cooperators over generations.', 'Migrants have no discernible effect on the fraction of cooperators.']\n",
      "['The number of steps walked decreases uniformly.', 'The swing velocity increases uniformly.', 'The clustering of data points becomes more pronounced.', 'The robust system becomes less distinguishable from the non-robust system.']\n",
      "['A forbidden energy gap where no electron transitions can occur.', 'An indirect transition path that involves an intermediate state or phonon.', 'The direct band gap of the WSe2 material.', 'The alignment of spin-polarized energy states that facilitates direct transition.']\n",
      "['The time at which all probabilities become zero.', 'The average decay time for all observed events.', 'The time after which the probability measurement is no longer reliable.', 'The time at which the probability is maximum.', '-']\n",
      "['WRG', 'RL', 'WS', 'MD2', 'E. MD4', 'F. MD8', 'G. RG', 'H. BA', '-', '## Figure D']\n",
      "['Weight (mass)', 'Surface texture', 'Elasticity', 'Velocity', '## Figure 4. Visual State Generation']\n",
      "['Optimization of network weights and biases', 'Use of labelled datasets for training', 'Implementation of a traffic sign recognition system', 'Introduction of errors through data poisoning attacks']\n",
      "['The average radius of planets discovered.', 'The theoretical prediction for the distribution of planet sizes.', 'The boundary between rocky and gaseous planets.', 'The error margin in the planet radius measurement.']\n",
      "[\"'vi' and 'vj' are sibling nodes sharing the same parent.\", \"'vi' is the parent of 'vj'.\", \"'vi' and 'vj' are completely disconnected without any relationship.\", \"'vj' is the parent of 'vi'.\"]\n",
      "['The concentration of Yb in CeYbCoIn_5.', 'The magnetic field strength applied to the samples.', 'The atomic percentage of the rare earth element replacing Ce in Ce_1-xR_xCoIn_5.', 'The temperature ratio of the sample to its critical temperature.']\n",
      "['The NFW (Navarro-Frenk-White) shear profile', 'The observed shear profile with error bars', 'The MCMC (Markov Chain Monte Carlo) best-fit shear profile', 'The absolute value of statistical noise']\n",
      "['It computes the reconstruction loss.', 'It acts as the RNN in the Encoder.', 'It determines the next state \\\\( \\\\hat{S}_{t-1} \\\\) given \\\\( \\\\hat{S}_{t-1} \\\\), \\\\( \\\\hat{z} \\\\), and \\\\( a_{t-1} \\\\).', 'It generates the reward \\\\( r_t \\\\).']\n",
      "['7 MeV', '4 MeV', '2 MeV', 'They all result in the same spread of error.']\n",
      "['It increases exponentially with helium density.', 'It remains constant regardless of helium density.', 'It decreases as the helium density increases.', 'It first decreases and then levels off as the helium density increases.', '-']\n",
      "['Particle 1', 'Particle 2', 'Particle 3']\n",
      "[\"They show different stages of a city's development.\", 'They represent a comparison of various image processing techniques.', 'They are artistic representations of urban landscapes.', 'They illustrate the progression of seasonal changes in an urban area.']\n",
      "[\"The agent's path to the sound source.\", 'The boundary of the sound detection range.', 'The direction of the sound traveling to the agent.', \"The agent's avoidance maneuver from the sound source.\"]\n",
      "['\\\\( U_{fc} = 0 \\\\)', '\\\\( U_{fc} = 0.1D \\\\)', '\\\\( U_{fc} = 0.5D \\\\)', '\\\\( U_{fc} = 0.9D \\\\)', '-']\n",
      "['Two-qubit', 'Three-qubit', 'Four-qubit']\n",
      "['A fixed point in space Q', 'The change or variation in Q', 'The destination of the mapping Φλ', 'A constant value in the parameter space M0']\n",
      "['\\\\( T_v (\\\\mu K) \\\\) increases exponentially with \\\\( \\\\delta \\\\).', '\\\\( T_v (\\\\mu K) \\\\) shows a peak at intermediate \\\\( \\\\delta \\\\) values before decreasing.', '\\\\( T_v (\\\\mu K) \\\\) decreases monotonically as \\\\( \\\\delta \\\\) increases.', '\\\\( T_v (\\\\mu K) \\\\) remains constant regardless of \\\\( \\\\delta \\\\).']\n",
      "['The theoretical limit for 3-dimensional scattering at high temperatures.', 'The threshold below which quantum effects become negligible.', \"The Tan's contact parameter for a strongly interacting gas.\", 'The limit of a thermodynamic quantity in the Thomas-Fermi approximation.', '-']\n",
      "['Ta-C60', 'Fe', 'C60', 'Fe-SiO']\n",
      "['The experimental data shows a greater peak current than the theory predicts.', 'The theoretical model perfectly predicts the experimental data.', 'The experimental data cannot be explained by the theoretical model.', 'The experimental data generally follows the trend predicted by the theory with slight deviations.']\n",
      "['Q\\\\(_B\\\\)', 'B\\\\(_A\\\\)', 'H\\\\(_A^-\\\\)', 'Q\\\\(_A^-\\\\)']\n",
      "[\"An increase in 'r' shifts the curve to the right and upwards\", \"An increase in 'r' shifts the curve to the left and downwards\", \"An increase in 'r' has no effect on the curve\", \"An increase in 'r' only affects the slope of the curve\"]\n",
      "['Point 6', 'Point 9', 'Point 15', 'Point 8']\n",
      "['Consistent periodic motion, such as the orbit of planets.', 'Random brightness variations of a celestial object.', 'A one-time explosive event, like a supernova.', \"The steady-state behavior of a celestial object's luminosity.\", '-']\n",
      "['The incidence rate decreases steadily with age.', 'The incidence rate increases sharply with age.', 'The incidence rate remains constant regardless of age.', 'The incidence rate increases slightly with age.']\n",
      "['\\\\(\\\\lambda\\\\)', '\\\\(T\\\\)', '\\\\(\\\\omega_c\\\\)', '\\\\(\\\\bar{O}\\\\)']\n",
      "['\\\\( L \\\\) decreases exponentially.', '\\\\( L \\\\) increases exponentially.', '\\\\( L \\\\) remains constant.', '\\\\( L \\\\) increases linearly.']\n",
      "['The slope of the curve between points \\\\( P_i \\\\) and \\\\( P_{i+1} \\\\).', 'The area under the curve between \\\\( (x_i, 0) \\\\) and \\\\( (x_{i+1}, 0) \\\\).', 'The length of the vertical line segment from the curve to the x-axis.', 'The intersection points of the dashed lines with the curve.']\n",
      "['Temperature variations in a fluid', 'Electrical field strength in a semiconductor', 'Concentration levels of a chemical substance', 'Light intensity across a surface', '-']\n",
      "['The concept of electric field lines around a single point charge.', 'The behavior of electric field lines around different charge configurations.', 'The distribution of magnetic field lines around a bar magnet.', 'The impact of an electric current on magnetic field lines.']\n",
      "['Curve 1', 'Curve 2', 'Curve 3']\n",
      "['The peaked spectrum sources show an increase in normalized flux density with frequency.', 'The normalized flux density of peaked spectrum sources remains constant across frequencies above 100 MHz.', 'The peaked spectrum sources show a decrease in normalized flux density with frequency.', 'The peaked spectrum sources exhibit a highly variable normalized flux density at frequencies above 100 MHz.']\n",
      "['ln(pJ/qJ)', 'ln(NJ/MJ)', 'ln(NJ0/MJ0)', 'ln(pJ0/qJ0)']\n",
      "['They represent various question types within the same class.', 'They indicate incorrect question-answer pairs that need to be filtered out.', 'They symbolize the distribution of source and target features within each question class.', 'They denote the classification accuracy for each question within the class.']\n",
      "['To show the progression of radiation damage from the macroscopic to the molecular level.', 'To compare the size of different biological cells.', 'To illustrate the measurement error in DNA sequencing.', 'To demonstrate the energy levels of DNA atoms.']\n",
      "['β(X,t) remains positive for all time points', 'β(X,t) reaches its maximum at t = 1', 'β(X,t) becomes negative as time progresses', 'β(X,t) does not change over time']\n",
      "['10 seconds', '30 seconds', '13 seconds', '50 seconds']\n",
      "['Magnetic field strength in Tesla', 'Energy difference in microelectronvolts (\\\\(\\\\mu eV\\\\))', 'Photoluminescence intensity in counts per second', 'Temperature in Kelvin']\n",
      "['Emotion and Language', 'Gambling and Motor', 'Social and Working memory', 'Motor and Relational']\n",
      "['It is intended to operate under high-temperature conditions.', 'It is designed to function in a zero-gravity environment.', 'It is made for underwater exploration.', 'It is constructed for high-pressure conditions.']\n",
      "['0.5', '1.0', '1.5', 'There is no point where all components have the same value.', '-', '## Figure b)']\n",
      "['Hellinger has a higher average proportion of correct neighbors than ITML.', 'Hellinger and ITML have the same average proportion of correct neighbors.', 'Hellinger has a lower average proportion of correct neighbors than ITML.', 'The trend cannot be determined from the given data.']\n",
      "['It is used to manage the LAN network between the ADwin-Pro II and NQontrol software.', 'It is sent to the optional HV amplifier for potential high voltage adjustments.', 'It serves as a feedback loop to the Servo module within the NQontrol software.', 'It directly interfaces with the ServoDesign module to create filter designs.']\n",
      "['The phase transition point between two states', 'A constant value of the variable \\\\( \\\\omega_j t \\\\)', 'The median value of the data range', 'The boundary of the maximum data value']\n",
      "['Linear relationship where error increases proportionally with \\\\(\\\\Delta\\\\phi\\\\).', 'Exponential relationship where error increases exponentially with \\\\(\\\\Delta\\\\phi\\\\).', 'Quadratic relationship where error increases with the square of \\\\(\\\\Delta\\\\phi\\\\).', 'Inverse relationship where error decreases as \\\\(\\\\Delta\\\\phi\\\\) increases.']\n",
      "['Figure (b) includes an additional curve not present in Figure (a).', 'The scale of the Δf in the inset of Figure (b) is larger than in Figure (a).', 'The trends of F_UFS and F_URS are opposite in Figure (b) compared to Figure (a).', 'Figure (b) represents a completely different set of features.']\n",
      "['Electron density in momentum space', 'Magnetic field vectors', 'Angular momentum vectors due to spin-orbit coupling', 'Electric field direction and intensity']\n",
      "['The PL intensity becomes negligible at higher energies.', 'The PL intensity shows a secondary peak at higher energies.', 'The PL intensity increases slightly at higher energies.', 'The PL intensity experiences a slight dip before increasing at higher energies.']\n",
      "['The maximum probability density for the ground state', 'The intersection point of all states', 'The average energy of the system', 'The point of zero probability density for all states']\n",
      "['Ionic bonds', 'Hydrogen bonds', 'Covalent bonds', 'Van der Waals interactions', '-']\n",
      "['To perform a measurement in the computational basis', 'To apply a quantum Fourier transform', 'To create entanglement between qubits', 'To initialize the qubits in a specific state']\n",
      "['To insert hash values into a B-Tree.', 'To store combined hash values and provide a quick lookup to retrieve the window list.', 'To extend the window size for better alignment.', 'To directly align the SMRT reads to the reference genome.']\n",
      "['Diagonal', 'Moderate', 'Deep', 'It is not clear from the graph']\n",
      "['Field', 'Massive Clusters', 'Both show the same level of correlation', 'The data does not indicate any correlation']\n",
      "['Single-contrast MRI images.', 'Synthetic multi-contrast MRI images.', 'Real multi-contrast MRI images.', '2.5D input images.']\n",
      "['DNA replication', 'Production of ATP', 'Protein folding', 'Lipid synthesis']\n",
      "['It is a measurement taken at a unique planetary orbital phase.', 'It represents a maximum value of Δ(b+y)/2 observed.', 'It is likely an outlier in the Δ(b+y)/2 data set.', 'It indicates the beginning of a new data collection cycle.']\n",
      "['μ increases linearly with ρ regardless of the value of T.', 'μ decreases with an increase in ρ for all values of T.', 'As ρ increases, μ increases at different rates depending on the value of T.', 'There is no clear relationship between μ and ρ.']\n",
      "['The axis of symmetry for the sample.', 'A crack in the sample material.', 'A division between two experiments.', 'The path of an electron beam used for imaging.']\n",
      "['Charge ordering (CO)', 'Spin density wave (SDW)', 'Antiferromagnetic ordering (AF)', 'Superconducting transition (SC)', '-']\n",
      "['The process of image denoising using a filter', 'The visualization of feature extraction in a convolutional neural network', 'The stages of image compression and decompression', 'The effect of different lighting conditions on image recognition', '-']\n",
      "[\"The level of confidence in the shape's placement\", 'The progression of time from Frame 0 to Frame 7', 'The decreasing relevance of the shape to the scene', 'The amount of movement of the shape between frames']\n",
      "['Elements are definitively assigned to a single cluster.', 'Elements may belong to multiple clusters with varying degrees of strength or membership.', 'The matrix represents the distances between the elements, not their cluster membership.', 'The matrix is indicative of a binary tree structure of clustering.']\n",
      "['The point where all the particle tracks originate', 'A spurious hit not associated with the true particle tracks', 'Detector malfunction point', 'The detector layer with the highest particle interaction', '-']\n",
      "['The intensity peaks shift towards higher \\\\( j \\\\) values.', 'The intensity peaks shift towards lower \\\\( j \\\\) values.', 'The intensity peaks remain constant.', 'The intensity peaks disappear entirely.']\n",
      "['\\\\( \\\\log(M_*/M_☉) = 9.0 \\\\)', '\\\\( \\\\log(M_*/M_☉) = 9.5 \\\\)', '\\\\( \\\\log(M_*/M_☉) = 10.0 \\\\)', '\\\\( \\\\log(M_*/M_☉) = 10.5 \\\\)']\n",
      "['It indicates that the molecule and surface are separate entities within the system.', 'It suggests a reaction or interaction is occurring between the molecule and the surface.', 'It denotes that the molecule is a part of the surface structure.', 'It signifies that the molecule and surface are the same chemical entity.']\n",
      "['A path within the plane p + H', 'A linear transformation in ℝ³', 'A vector orthogonal to h₁ and h₂', 'A trajectory intersecting point p in ℝ³', '-']\n",
      "['0.3', '0.7', '1.0', '1.3', '-']\n",
      "['Source Concept', 'Action Plan', 'Internal Representation', 'Estimated Concept']\n",
      "['The model predicts a linear decrease in color magnitude with increasing redshift.', 'The model predicts a non-linear relationship between color magnitude and redshift.', 'The model predicts a linear increase in color magnitude with increasing redshift.', 'There is no discernible trend predicted by the model.']\n",
      "['They will be sensitive to a larger range of masses.', 'They will only be sensitive to masses smaller than 0.1 eV.', 'They will be less sensitive to all mass ranges.', 'They will have no sensitivity to the mass of axion-like particles.']\n",
      "['The relationship between different types of eyewear and their visibility at various angles.', 'The success rates of facial recognition attacks with different disguises.', 'The correlation between the degree of pitch and the detection rate of eyewear.', 'The impact of respirators on facial recognition systems at different degrees of pitch.', '-']\n",
      "['The probability distribution for a variable at \\\\( p = 1 \\\\).', \"The maximum threshold of the system's performance at \\\\( p = 1 \\\\).\", 'The cumulative distribution function for \\\\( \\\\lambda_p \\\\) at maximum certainty.', 'The error threshold as a function of \\\\( \\\\lambda_p \\\\) at \\\\( p = 1 \\\\).', '-']\n",
      "['T2W with Dice loss', 'T2W+ADC with Dice+CE loss', 'T2W+DWI+ADC with Tversky loss', 'T2W+DWI+ADC with Dice loss', '## Figure b: Comparison of HD (95%) (mm)']\n",
      "['It predicts a higher n value than the emulation for lower |e|.', 'It is directly proportional to the COSMOS emulation curve.', 'It predicts a lower n value than the emulation for all |e|.', 'It is completely uncorrelated with the COSMOS emulation curve.']\n",
      "[\"The angle of refraction according to Snell's law.\", 'The phase difference between two waves.', 'The angle of incidence in a reflection experiment.', 'The orientation angle of polarized light.']\n",
      "['Temperature variation across the surface.', 'Electric field intensity.', 'Magnetic field distribution.', 'Stress distribution in the material.']\n",
      "['Most debris disks around spectral type F9-K2 stars are detected through Vis./NIR wavelengths.', 'Composite measurements show the least variation in radial range across all spectral types.', 'MIR measurements have detected debris disks with larger radial ranges than (Sub)mm measurements.', 'The radial range of debris disks detected at FIR wavelengths is consistently above 100 AU for spectral types A0-A6.']\n",
      "['Fermentation', 'Electrophilic addition', 'Hydrogenation', 'Diels-Alder reaction', '-']\n",
      "['A linear relationship between two variables.', 'A set of random data points without any clear pattern.', 'The trajectory of a particle in a magnetic field.', 'A complex-valued function represented in a complex plane.']\n",
      "['The peak width increases consistently across the plots.', 'The peak width decreases consistently across the plots.', 'The peak width varies non-monotonically across the plots.', 'The peak width remains the same across all plots.', '-']\n",
      "['Around 10^-2 GeV', 'Between 10^1 and 10^2 GeV', 'Between 10^3 and 10^4 GeV', 'They do not intersect within the displayed energy range']\n",
      "['It points to the ultrasound transducer.', 'It marks the location of the artery.', 'It indicates the position of the needle in the tissue.', 'It shows the direction of blood flow in the vein.']\n",
      "['\\\\( 10^{-6} \\\\)', '\\\\( 10^{-5} \\\\)', '\\\\( 5 \\\\times 10^{-5} \\\\)', 'The transmission is the same for all values.']\n",
      "['The lower bound on exponents would approach the value of γ = 0.99.', 'The lower bound on exponents would surpass the value of γ = 0.99 at some point.', 'The lower bound on exponents would plateau and remain constant after δ = 1.', 'The lower bound on exponents would decrease after δ = 1.']\n",
      "['The point where the substance changes from solid to liquid.', 'The point where the liquid starts to vaporize.', 'The point of the phase transition from liquid to gas under critical temperature and pressure.', 'The maximum density point for a gas phase.', '-']\n",
      "['\\\\(C_l\\\\) increases with increasing \\\\(F_D / F_p\\\\) for a given \\\\(\\\\phi\\\\).', '\\\\(C_l\\\\) decreases with increasing \\\\(F_D / F_p\\\\) for a given \\\\(\\\\phi\\\\).', '\\\\(C_l\\\\) remains unchanged as \\\\(F_D / F_p\\\\) increases for a given \\\\(\\\\phi\\\\).', '\\\\(C_l\\\\) shows complex behavior that is not consistent across different values of \\\\(\\\\phi\\\\).']\n",
      "['BChl 2', 'BChl 3', 'BChl 5', 'BChl 7']\n",
      "['Simulation time decreases exponentially with increasing lattice size.', 'Simulation time remains constant regardless of the lattice size.', 'Simulation time increases linearly with increasing lattice size.', 'Simulation time increases as a power law with increasing lattice size.']\n",
      "[\"TP3's motion is more restricted than TP1 and TP2.\", \"TP3's motion covers a larger area than TP1 and TP2.\", 'TP3 is moving in a different plane than TP1 and TP2.', \"TP3's trajectory suggests it is moving faster than TP1 and TP2.\"]\n",
      "['The emissions increase with radial distance.', 'The emissions decrease with radial distance.', 'The emissions first increase and then decrease with radial distance.', 'No significant trend is observed.']\n",
      "['A dark matter halo model.', 'A black hole accretion disk model.', 'A boxy bulge/bar model.', 'A spiral density wave model.']\n",
      "['The division between star-forming and quasi-quiescent galaxies', 'The division between low-mass and high-mass galaxies', 'The average value of D_n4000 for isolated galaxies', 'The division between quiescent and quasi-quiescent galaxies']\n",
      "['They have the lowest \\\\( A_{outer} \\\\) values.', 'They have the highest \\\\( A_{outer} \\\\) values.', 'They are the most massive, with the highest \\\\( \\\\log (M_{\\\\ast} / M_{\\\\odot}) \\\\).', 'They are the least massive, with the lowest \\\\( \\\\log (M_{\\\\ast} / M_{\\\\odot}) \\\\).']\n",
      "['Re(S21) has more pronounced peaks at lower temperatures.', 'Re(S21) amplitude decreases as temperature increases.', 'Re(S21) shows a constant pattern regardless of temperature changes.', 'Re(S21) shows the highest peaks at intermediate temperatures of 1.0K and 2.0K.']\n",
      "['The smoothness of the copper surface', 'The distance between graphene layers', 'The alignment of the hBN and graphene layers', 'The number of graphene layers stacked together', '## For Figure (d)']\n",
      "['The ratio of gravitational force to Joule heating effect', 'The ratio of the gain coefficient to the loss coefficient', 'The ratio of the coupling constant to the energy scale of the system', 'The ratio of growth rate to decay rate of the wave function']\n",
      "['Stellar surface activity', 'Roche radius crossing', '3-day pile-up events', 'None, all events occur with the same frequency']\n",
      "['The system returns to its initial state after each measurement.', 'The system is undergoing periodic motion.', 'The system is experiencing incremental changes over time.', 'The system remains static over each time interval \\\\( \\\\Delta t \\\\).']\n",
      "['Between 0.0 and 0.2', 'Between 0.4 and 0.6', 'Between 0.8 and 1.0', 'Between 1.2 and 1.4']\n",
      "['Figure (a)', 'Figure (b)', 'Figure (c)', 'Figure (d)']\n",
      "['A reversible reaction or process.', 'A boundary separating different phases or states.', 'A potential difference or voltage in an electrical circuit.', 'An inactive or dormant pathway in a system.']\n",
      "[\"Only 'Xc'\", \"Only 'Xs'\", \"Both 'Xc' and 'Xs'\", \"Neither 'Xc' nor 'Xs'\"]\n",
      "['To indicate the axis of symmetry', 'To mark the boundaries of the figure', 'To show the direction of data analysis', 'To highlight the data transition path']\n",
      "['The visual features from the image encoder only.', 'The textual features from the text encoder only.', 'A combination of visual features from the image encoder and textual features from the text encoder.', 'The output of the Multi-modal Video-Text Encoder.']\n",
      "['Q increases with T for all values of \\\\( \\\\bar{n} \\\\).', 'Q decreases with T until a certain point and then becomes stable for all values of \\\\( \\\\bar{n} \\\\).', 'Q decreases with T for all values of \\\\( \\\\bar{n} \\\\).', 'Q is independent of T for all values of \\\\( \\\\bar{n} \\\\).']\n",
      "['γ increases faster in graph (a) than in graph (b).', 'γ decreases faster in graph (a) than in graph (b).', 'γ remains constant in both graphs.', 'γ increases faster in graph (b) than in graph (a).']\n",
      "['The change in competitive ratio per unit increase in support size.', 'The frequency of competitive events occurring in the dataset.', 'The error rate in the measurement of the competitive ratio.', 'The total number of competitive events measured.']\n",
      "['They are both constant over time.', 'They oscillate in phase with each other.', 'They oscillate out of phase with each other.', '\\\\<x\\\\> oscillates while \\\\<kx\\\\> remains constant.']\n",
      "['The theoretical line overestimates the numerical results significantly.', 'The theoretical line underestimates the numerical results significantly.', 'The theoretical line closely matches the numerical results.', 'The numerical results are too scattered to determine any relationship.']\n",
      "['Δz(5.25)', 'Δz(6.75)', 'Δz(8.25)', 'Δz(9.75)']\n",
      "['Spherical clusters', 'Parallel lines', 'Overlapping circles', 'Randomly distributed points']\n",
      "['The critical point \\\\(\\\\lambda_c\\\\) increases with increasing \\\\( ML \\\\).', 'The critical point \\\\(\\\\lambda_c\\\\) decreases with increasing \\\\( ML \\\\).', 'The critical point \\\\(\\\\lambda_c\\\\) remains constant regardless of \\\\( ML \\\\).', 'The critical point \\\\(\\\\lambda_c\\\\) cannot be determined from the given information.', '## Figure on the Right']\n",
      "['Fast + Brief', 'Fast + Freak', 'Harris', 'KLT', '## For Figure (c):']\n",
      "['The electron conserves momentum as it transitions without any external influence.', \"The electron's momentum is not conserved, requiring a phonon's involvement.\", \"The electron gains momentum in the direction of the phonon's propagation.\", \"The phonon provides the necessary energy but does not affect the electron's momentum.\"]\n",
      "['All attention maps are uniformly distributed.', 'Attention maps at Depth 4 show a diagonal concentration, indicating self-attention.', 'Attention maps at Depth 6 show larger values across the entire map.', 'The attention maps are sparse and show no particular pattern.']\n",
      "['High school computer science', 'Anatomy', 'Public relations', 'Management']\n",
      "['Higher learning rates always result in a steeper loss surface slope.', 'Lower learning rates always result in a steeper loss surface slope.', 'There is no clear relationship between learning rate and loss surface slope.', 'Higher learning rates initially result in a steeper loss surface slope, which flattens out as parameter perturbation increases.']\n",
      "['The MaNGA data is the oldest, collected before 2004.', 'The Lick Shane data is the most recent, collected in 2021.', 'The BOSS data was collected after the Lick Shane data.', 'The SDSS DR7 and MaNGA data were collected in the same year.']\n",
      "['It shows the best-case scenario of algorithm performance across different subgroups.', 'It represents the scenario where the algorithm performs at its lowest accuracy across different demographic groups.', 'It indicates the overall performance of the algorithm without considering demographic subgroups.', 'It refers to the distribution of algorithm errors across various age groups.']\n",
      "['The curves approach a horizontal asymptote.', 'The curves decline steadily.', 'The curves intersect each other.', 'The curves become vertical.']\n",
      "['It lies on the boundary of the circle', 'It is outside the shaded area at a distance greater than B from the origin', 'It is inside the shaded area at a distance less than B from the origin', 'It is exactly at the origin']\n",
      "['A point where two different correlation measures are equal.', 'The maximum value of the correlation coefficient.', 'The minimum value of the correlation coefficient.', 'An error in the graph as they should not intersect.']\n",
      "['Comb power and power in the pumped mode are inversely related.', 'Comb power exceeds power in the pumped mode after a specific time.', 'Power in the pumped mode is always higher than the comb power.', 'Both powers decrease to zero over time.']\n",
      "['It increases monotonically.', 'It decreases monotonically.', 'It first increases, then decreases.', 'It remains constant.']\n",
      "['The first peak position shifts to lower q values.', 'The first peak position shifts to higher q values.', 'The first peak position remains constant.', 'The first peak position initially increases then decreases.']\n",
      "['Through transitions from the Replay Buffer.', 'By the state descriptors directly.', 'Through evaluation of the MAP-Elites grid.', 'By the descriptor-conditioned gradient from the PG (Policy Gradient).']\n",
      "[\"'Our 256N Block' significantly outperforms 'CUB'.\", \"'Our 256N Block' performs approximately the same as 'CUB'.\", \"'Our 256N Block' starts to underperform compared to 'CUB'.\", \"'CUB' performance drops below that of 'Our 256N Block'.\"]\n",
      "['To identify and remove artificial colors from products', 'To sanitize noisy attributes from retailer resources', 'To expand the seed attribute set by discovering new types', 'To store products correctly to ensure a one-year shelf life']\n",
      "['The margin of error in K-correction measurements', 'The range of temperatures considered in the K-correction', 'The confidence interval for the best-fit line', 'The range of redshifts observed']\n",
      "['To determine the absolute values of \\\\( k_{\\\\text{R}} \\\\) and \\\\( B_p \\\\)', 'To examine the scaling relationships between radius and other stellar properties', 'To establish a linear relationship between radius and magnetic field strength', 'To compare different stars to the sun']\n",
      "['The top left figure with a uniform distribution.', 'The bottom left figure with complex patterns.', 'The top right figure with distinct regions.', 'The bottom right figure with one large distinct region.']\n",
      "['Dataset corresponding to figure (d)', 'Dataset corresponding to figure (e)', 'Dataset corresponding to figure (f)', 'Variance cannot be determined from histograms.']\n",
      "['It would shift closer to the line representing z > 1.', 'It would remain the same as w does not affect the curve.', 'It would shift closer to the line representing z > ∞.', 'It would diverge further from all the other lines.']\n",
      "['The maximum value of C_n when T is approximately 8', 'The point where C_n starts to decrease as T increases', 'The intersection point of C_n and T at the highest C_n value', 'The minimum value of C_n for any given T']\n",
      "['To denote the end of a branch and the literal proposition.', 'To represent the logical operators of higher precedence.', 'To indicate the potential outcomes of a decision-making process.', 'To act as placeholders for variable assignment in an equation.']\n",
      "['Contrast increases while transparency decreases.', 'Both contrast and transparency increase.', 'Both contrast and transparency decrease.', 'Contrast decreases while transparency increases.']\n",
      "['To separate the pump pulse from the signal and idler photons', 'To combine different wavelengths into a single beam', 'To generate photon pairs through spontaneous parametric down-conversion', 'To reflect all wavelengths equally']\n",
      "['The point of maximum signal intensity', 'The direction of signal propagation', 'The location of signal dissipation', 'The boundary between topological and trivial states']\n",
      "['They represent the different stages of cell division.', 'They indicate the presence of genetic mutations.', 'Each color corresponds to a specific type of gene found in that region.', 'The colors are used to differentiate between the different regions within each chromosome.']\n",
      "['Voice Activity Detection', 'BERT', 'Speaker Labels', 'Clustering']\n",
      "['They represent different weather conditions for driving.', 'They show the same location at different times of the day.', \"They are generated images to illustrate an algorithm's performance.\", 'They depict various traffic densities on the road.']\n",
      "['The direction of the vectors', 'The presence of a central attracting body', 'The density of field lines', 'The color coding of the vectors']\n",
      "['The \\\\( \\\\delta G / \\\\delta G (B=0T) \\\\) value increases.', 'The \\\\( \\\\delta G / \\\\delta G (B=0T) \\\\) value decreases.', 'The \\\\( \\\\delta G / \\\\delta G (B=0T) \\\\) value remains constant.', 'The \\\\( \\\\delta G / \\\\delta G (B=0T) \\\\) value first decreases, then increases.']\n",
      "['Movies with higher production budgets tend to have higher worldwide gross.', 'There is no relationship between production budgets and worldwide gross.', 'Movies with lower production budgets tend to have higher worldwide gross.']\n",
      "['They are used to concatenate and reshape tokens into an image.', 'They provide normalization for the style tokens.', 'They serve as key and value in the attention mechanism to integrate style.', 'They are the mapping network for generating position encoding.']\n",
      "['It merges voxel group predictions into a single prediction', 'It combines the features of the previous and current voxel groups', 'It performs a reduction in the number of voxel groups', 'It prepares the data for the final output without any processing']\n",
      "['Positional Encoding', 'Self-Attention', 'Parse Embedding', 'Source Attention']\n",
      "['The force applied to the sample in teslas.', 'The frequency of a characteristic peak in teslas.', 'The field strength required to achieve resonance.', 'The fluorescence intensity of the sample.']\n",
      "['To adjust the resolution of the input image', 'To determine the strength of the filter applied during downsampling', 'To set the proportion of the output image relative to the input', 'To define the number of layers in the neural network']\n",
      "['To measure the electrical current in the system', 'To provide structural support to the components', 'To enable the transfer of RF signals between different parts of the chip', 'To act as a heat sink for thermal management', '-']\n",
      "['More solutions require more oracle evaluations for a 50% probability of success.', 'Fewer solutions require more oracle evaluations for a 50% probability of success.', 'The number of oracle evaluations required remains constant regardless of the number of solutions.', 'There is no discernible pattern between the number of solutions and oracle evaluations required for a 50% probability of success.']\n",
      "['The size of the pseudo mask', 'The inconsistency between features extracted from different network backbones', 'The size of the annotated box', 'The differences between SANet models']\n",
      "['Fidelity increases then decreases past a certain \\\\( \\\\nu/\\\\omega_0 \\\\) value.', 'Fidelity steadily increases.', 'Fidelity remains constant regardless of \\\\( \\\\nu/\\\\omega_0 \\\\).', 'Fidelity steadily decreases.']\n",
      "['The cumulative frequency of ParaCorr Neurons intersection with other factors.', 'The percentage of unrelated neurons in each category.', 'The individual count of neurons for Pos, Token, and Para.', 'The total number of neurons analyzed in the study.']\n",
      "['It measures the energy difference between the states.', 'It provides an additional potential energy landscape.', 'It stabilizes the transition between energy levels.', 'It serves as a second probe to measure the output signal.']\n",
      "['The eye shape becomes progressively narrower.', 'There is no change in the eye shape.', 'The eye size increases consistently.', 'The eye shape becomes progressively wider.']\n",
      "['02-OELM (OFF)', '04-NM (OFF)', '03-OCLSTM (ON)', '01-HT (OFF)', '-']\n",
      "['\\\\( 13CO \\\\) is more concentrated than \\\\( 12CO \\\\) throughout the disk.', '\\\\( 13CO \\\\) and \\\\( 12CO \\\\) have similar concentrations throughout the disk.', '\\\\( 12CO \\\\) is more concentrated than \\\\( 13CO \\\\) throughout the disk.', '\\\\( 13CO \\\\) only appears at the outer edge of the disk.']\n",
      "['Panels (a) and (b)', 'Panels (c) and (d)', 'Panels (a) and (c)', 'Panels (b) and (d)']\n",
      "['The structures with more angular connections', 'The structures with a closed ring', 'The structures with a linear chain of atoms', 'The structures with the least number of atoms']\n",
      "['A trained neural network.', 'A visual representation of data.', 'Predicted values \\\\( \\\\hat{y}_i \\\\) for new data points.', 'The optimization of loss functions.']\n",
      "['The precision of a new astrometric calibration method.', 'The varying brightness of stars in a galaxy.', 'The error distribution in celestial coordinates of stars.', 'The seasonal variation of star visibility.']\n",
      "['Low variability, as data points are close to the diagonal', 'High variability, as data points are spread across the entire plot', 'Moderate variability, with most data points near the diagonal but some scattered widely', 'No variability, as all data points lie on the diagonal', '## For Figure B:']\n",
      "['The squared difference between observed and theoretical luminosity in galaxies', 'The variance of galaxy number density fluctuations on different scales', 'The change in galaxy velocity dispersion with scale', 'The energy output from galaxies over a given frequency range']\n"
     ]
    }
   ],
   "source": [
    "import re\n",
    "\n",
    "for item in data[1000:1200]:\n",
    "    options = item[\"options\"]\n",
    "    new_options = []\n",
    "    for op in options:\n",
    "        new_options.append(re.sub(r'^[A-D][\\.\\)]\\s*', '', op))\n",
    "    print(new_options)"
   ],
   "metadata": {
    "collapsed": false,
    "ExecuteTime": {
     "end_time": "2024-08-14T12:34:17.326245Z",
     "start_time": "2024-08-14T12:34:17.312879Z"
    }
   },
   "id": "7f1c82f9e33e74c5",
   "execution_count": 19
  },
  {
   "cell_type": "code",
   "outputs": [
    {
     "name": "stdout",
     "output_type": "stream",
     "text": [
      "{'id': 'physics-38688', 'image': 'images/1511.04824_0.jpg', 'options': ['The detailed composition of a single nanopillar.', 'The cross-section of the PDMS layer.', 'The interface between a-Si and Al2O3.', 'A representation of the entire array of nanopillars.', '## For Figure b:'], 'question': 'What does the magnified inset in figure a signify?', 'label': 'C', 'rationale': 'The inset magnifies a portion of the nanopillar array, specifically focusing on the layered composition of a single nanopillar, which includes a-Si and Al2O3 layers atop the PDMS substrate.'}\n"
     ]
    },
    {
     "data": {
      "text/plain": "0"
     },
     "execution_count": 23,
     "metadata": {},
     "output_type": "execute_result"
    }
   ],
   "source": [
    "cnt = 0\n",
    "for item in data:\n",
    "    if len(item[\"options\"]) != 4:\n",
    "        print(item)\n",
    "        break\n",
    "cnt"
   ],
   "metadata": {
    "collapsed": false,
    "ExecuteTime": {
     "end_time": "2024-08-14T12:36:09.731955Z",
     "start_time": "2024-08-14T12:36:09.723260Z"
    }
   },
   "id": "b70bc7f868ea8806",
   "execution_count": 23
  },
  {
   "cell_type": "code",
   "outputs": [
    {
     "name": "stdout",
     "output_type": "stream",
     "text": [
      "{'id': 'math-13033', 'image': 'images/1706.05117_3.jpg', 'options': ['A. WRG', 'B. RL', 'C. WS', 'D. MD2', 'E. MD4', 'F. MD8', 'G. RG', 'H. BA'], 'question': 'Based on Figure D, which graph type should one select if the objective is to maximize modal controllability with minimal variance in the Power Law model with 128 nodes?', 'label': 'H. BA', 'rationale': 'The BA graph type in Figure D not only has the highest median modal controllability but also a relatively small IQR compared to its median value, indicating higher controllability with minimal variance.'}\n",
      "defaultdict(<class 'int'>, {'B': 32982, 'C': 30314, 'A': 21296, 'D': 15158, 'E': 130, 'F': 7, 'G': 4, 'J': 1, 'H': 1})\n"
     ]
    }
   ],
   "source": [
    "from collections import defaultdict\n",
    "\n",
    "labels = defaultdict(int)\n",
    "\n",
    "\n",
    "def extract_sequence_number(option):\n",
    "    # 正则表达式匹配序号\n",
    "    match = re.match(r'^([A-Z][\\.\\)])\\s*', option)\n",
    "    return match.group(1) if match else None\n",
    "\n",
    "\n",
    "for item in data:\n",
    "    label = item[\"label\"]\n",
    "    if len(label) >= 1 and label[0].isalpha():\n",
    "        label = label[0]\n",
    "        labels[label] += 1\n",
    "    if label == 'H':\n",
    "        print(item)\n",
    "print(labels)\n"
   ],
   "metadata": {
    "collapsed": false,
    "ExecuteTime": {
     "end_time": "2024-08-14T12:54:29.249016Z",
     "start_time": "2024-08-14T12:54:29.202597Z"
    }
   },
   "id": "26ffd7855083d78e",
   "execution_count": 42
  },
  {
   "cell_type": "code",
   "outputs": [
    {
     "name": "stdout",
     "output_type": "stream",
     "text": [
      "{'A': 0, 'B': 1, 'C': 2, 'D': 3, 'E': 4, 'F': 5, 'G': 6, 'H': 7, 'I': 8, 'J': 9, 'K': 10, 'L': 11, 'M': 12, 'N': 13, 'O': 14, 'P': 15, 'Q': 16, 'R': 17, 'S': 18, 'T': 19, 'U': 20, 'V': 21, 'W': 22, 'X': 23, 'Y': 24, 'Z': 25}\n",
      "['A', 'B', 'C', 'D', 'E', 'F', 'G', 'H', 'I', 'J', 'K', 'L', 'M', 'N', 'O', 'P', 'Q', 'R', 'S', 'T', 'U', 'V', 'W', 'X', 'Y', 'Z']\n"
     ]
    }
   ],
   "source": [
    "label2idx = {chr(i): i - 65 for i in range(65, 91)}\n",
    "idx2label = [chr(i) for i in range(65, 91)]\n",
    "\n",
    "new_data = []\n",
    "for item in data:\n",
    "    label = item[\"label\"]\n",
    "    if len(label) >= 1 and label[0].isalpha():\n",
    "        # process options\n",
    "        options = item[\"options\"]\n",
    "        label = label[0].upper()\n",
    "        if label2idx[label] < len(options):\n",
    "            new_data.append({\n",
    "                \"image\": item[\"image\"],\n",
    "                \"question\": item[\"question\"],\n",
    "                \"options\": options,\n",
    "                \"label\": label\n",
    "            })"
   ],
   "metadata": {
    "collapsed": false,
    "ExecuteTime": {
     "end_time": "2024-08-14T12:56:59.956385Z",
     "start_time": "2024-08-14T12:56:59.939533Z"
    }
   },
   "id": "ff97880310e61abc",
   "execution_count": 44
  },
  {
   "cell_type": "code",
   "outputs": [
    {
     "name": "stdout",
     "output_type": "stream",
     "text": [
      "{'id': 'econ-19', 'image': 'images/2011.11801_1.jpg', 'options': ['A) The median value of the p-values distribution.', 'B) The cutoff value for statistical significance.', 'C) The peak density of the p-values distribution.', 'D) The mean value of the density distribution.'], 'question': 'Referring to Figure B, what does the vertical dashed red line represent?', 'label': 'B', 'rationale': 'In Figure B, the vertical dashed red line is located just after 0.05 on the x-axis, which is commonly used as a cutoff value for statistical significance in hypothesis testing, indicating that p-values to the left of the line are considered statistically significant.'}\n",
      "{'id': 'econ-81', 'image': 'images/1910.12545_2.jpg', 'options': ['A. The mode is greater than the mean.', 'B. The mode is less than the mean.', 'C. The mode is equal to the mean.', 'D. The relationship cannot be determined.'], 'question': 'Based on the distributions shown in the figure, what can be inferred about the relationship between the mode and the mean in the middle distribution?', 'label': 'A', 'rationale': \"The 'middle' distribution shows the mode at the top of the pyramid, which has the highest concentration of dots, and the mean at the bottom, indicating the average. Since the mode is higher on the pyramid, it is inferred to be greater than the mean in this distribution.\"}\n",
      "{'id': 'econ-96', 'image': 'images/2105.00939_1.jpg', 'options': ['A. The top figure represents a broader range of values than the bottom figure.', 'B. The bottom figure represents a broader range of values than the top figure.', 'C. Both figures represent the same range of values for the variable.', 'D. The figures represent different variables, hence incomparable ranges.'], 'question': \"Considering the color scale in both figures, which statement is true regarding the variable's values?\", 'label': 'A', 'rationale': \"The color scale of the top figure ranges from -0.94 to 0.73, while the bottom figure's scale is from -0.25 to 0.31, indicating that the top figure covers a broader range of values for the variable.\"}\n",
      "{'id': 'econ-80', 'image': 'images/1910.12545_2.jpg', 'options': ['A. 90%', 'B. 95%', 'C. 99%', 'D. Rejected', '-'], 'question': 'Which confidence set is not represented in any of the distributions in the figure?', 'label': 'C', 'rationale': \"The figure shows two levels of shading for the dots, representing 90% and 95% confidence sets. There is no shading or label for a 99% confidence set, but there is a label for 'rejected'.\"}\n",
      "{'id': 'econ-154', 'image': 'images/2304.04849_0.jpg', 'options': ['The rate increases steadily.', 'The rate decreases steadily.', 'The rate decreases and then increases, forming a U-shape.', 'The rate increases and then decreases, forming an inverted U-shape.'], 'question': 'What trend is depicted by the red line in the graph regarding the Black/White relative rate of advanced enrollment as the percentage of Whites in the school increases?', 'label': 'C', 'rationale': 'The red line on the graph shows a decrease in the Black/White relative rate of advanced enrollment as the percentage of Whites in the school increases up to around the 50% mark, after which the rate begins to increase, forming a U-shaped curve.'}\n",
      "{'id': 'econ-147', 'image': 'images/2102.00497_1.jpg', 'options': ['A) The number of COVID-related trials increased dramatically from 2019 to 2020.', 'B) The number of other trials remained constant from 2018 to 2020.', 'C) The number of COVID-related trials was highest in 2018.', 'D) The number of other trials exceeded COVID-related trials in 2020.'], 'question': 'According to figure (d), which statement accurately reflects the data regarding the number of trials from 2018 to 2020?', 'label': 'A', 'rationale': 'The red line in figure (d), representing COVID-related trials, shows a significant upward spike from 2019 to 2020, indicating a dramatic increase. The other types of trials, indicated by the blue line, show a decrease over the same period, confirming that the number of COVID-related trials increased dramatically in 2020.'}\n",
      "{'id': 'econ-182', 'image': 'images/2204.01884_0.jpg', 'options': ['A. Contraction BR Score', 'B. Continuous BR Score', 'C. Discontinuous BR Score with σ = 1.00', 'D. Discontinuous BR Score with σ = 0.70'], 'question': 'Which graph depicts the most stable scoring system with the least variation in BR Score across different thresholds?', 'label': 'D', 'rationale': 'Stability in this context refers to less variation in the BR Score as the threshold changes. The graph with σ = 0.70 in the Discontinuous BR Score has a nearly vertical line, indicating that the BR Score jumps to a high value at a specific threshold and remains at that score beyond the threshold, showing the least variation.'}\n",
      "{'id': 'econ-165', 'image': 'images/2304.04849_1.jpg', 'options': ['A) 0.00 to 0.25', 'B) 0.25 to 0.50', 'C) 0.50 to 0.75', 'D) 0.75 to 1.00'], 'question': 'Based on Figure B, which relative group size range shows the greatest deviation between the empirical estimate and the simulated values for same-race ties?', 'label': 'D) 0.75 to 1.00', 'rationale': 'The distance between the empirical estimate curve (solid red line) and the simulated values (grey dots) appears to be the greatest in the 0.75 to 1.00 range of the relative group size, indicating the largest deviation in that segment.'}\n",
      "{'id': 'econ-132', 'image': 'images/2012.04103_2.jpg', 'options': ['A. θ1 determines the stability of the market preference, with higher θ1 favoring market M3.', 'B. θ1 has no effect on market preferences as it is independent of the peak positions.', 'C. Lower values of θ1 correspond to a preference for market M1, as seen by the large peak positions.', 'D. θ1 is directly proportional to the preference for market M2, with small peak positions indicating this preference.'], 'question': 'What role does the parameter θ1 play in determining market preferences as depicted in the figure?', 'label': 'C', 'rationale': 'The graph shows that lower values of θ1 correspond to the large peak positions, which are associated with a preference for market M1. As θ1 increases, the peak positions change, indicating a shift in market preference. This suggests that θ1 is a parameter that influences market preferences, with lower values favoring market M1.'}\n",
      "{'id': 'econ-200', 'image': 'images/2211.07412_3.jpg', 'options': ['A. The presence of geometric shapes', 'B. The use of different colors to indicate various elements', 'C. The depiction of molecular bonds and chains', 'D. The inclusion of numerical data'], 'question': 'What aspect of the figure suggests it is related to biology or biochemistry?', 'label': 'C', 'rationale': 'The depiction of molecular bonds and chains, typically seen in representations of biological molecules like proteins or DNA, suggests a relation to biology or biochemistry.'}\n",
      "{'id': 'econ-28', 'image': 'images/2003.07736_0.jpg', 'options': ['Most locations show a significant price change at 12:00 PM.', 'Price changes are most volatile between 06:00 and 18:00.', 'There is little to no price change observed throughout the day for all locations.', 'The price changes follow a sinusoidal pattern, peaking at midday and night.'], 'question': 'Based on the time-series data provided, what is a common pattern observed in normalized price changes for the locations shown?', 'label': 'B', 'rationale': 'The time-series data shows more fluctuations between 06:00 and 18:00 across various locations, suggesting increased volatility in price changes during these hours.'}\n",
      "{'id': 'econ-104', 'image': 'images/2106.15844_0.jpg', 'options': ['A. Each stage is dependent on the output of the previous stage.', 'B. All stages occur simultaneously without dependence on each other.', 'C. The stages are independent modules that do not interact.', 'D. The process is cyclical with the last stage connecting back to the first.'], 'question': 'If this figure represents a process in stages, what can be inferred about the relationship between each stage?', 'label': 'A', 'rationale': 'The arrows connecting \"Depth 1\" to \"Depth 2\", and so on, indicate a sequential process where each stage follows and is dependent on the previous stage.'}\n",
      "{'id': 'econ-58', 'image': 'images/2205.12881_2.jpg', 'options': ['A. The probability of admission decreases as the priority score approaches 1.0.', 'B. The probability of admission stays constant regardless of the priority score.', 'C. The probability of admission increases at a decreasing rate as the priority score approaches 1.0.', 'D. The probability of admission increases at an increasing rate as the priority score approaches 1.0.'], 'question': 'What does the graph indicate about the relationship between the priority score and the probability of admission as the score approaches 1.0?', 'label': 'C', 'rationale': 'The graph shows multiple curves representing the probability of admission against the priority score. As the score approaches 1.0, each curve shows an increase in probability, but the rate of increase slows down, hence the probability increases at a decreasing rate.'}\n",
      "{'id': 'econ-298', 'image': 'images/2109.06591_2.jpg', 'options': ['astro-ph', 'cond-mat', 'q-bio', 'hep-ex'], 'question': 'Which category experienced a notable spike in the number of new authors appearing on arXiv per month around the years 2015 and 2018?', 'label': 'C', 'rationale': \"The 'q-bio' graph shows two distinct spikes in the light blue area that represents the number of new authors appearing on arXiv per month, which occur around the years 2015 and 2018. The other categories do not show such distinct spikes in the same time frame.\"}\n",
      "{'id': 'econ-59', 'image': 'images/2205.12881_2.jpg', 'options': ['A. The set of curves with the steepest slope indicates the highest initial probability of admission.', 'B. The set of curves with the steepest slope indicates a lower final probability of admission.', 'C. The set of curves with the steepest slope indicates a more rapid increase in the probability of admission as the priority score increases.', 'D. The set of curves with the steepest slope indicates a less sensitive change in the probability of admission relative to the priority score.'], 'question': 'Based on the graph, which statement best describes the set of curves with the steepest slope?', 'label': 'C', 'rationale': 'The steepness of a curve in a graph like this denotes the rate of change. The steeper the curve, the more rapid the increase. The green curves are the steepest, especially towards the higher end of the priority score, showing a rapid increase in admission probability with the score.'}\n",
      "{'id': 'econ-25', 'image': 'images/2003.07736_1.jpg', 'options': ['Approximately 100', 'Exactly 91', 'Less than 50', 'More than 150'], 'question': 'According to Figure b, what is the average number of offline drivers during the observed time period?', 'label': 'B', 'rationale': 'Figure b indicates a dashed line labeled \\\\( \\\\bar{N}_{OFF}^* = 91 \\\\), which suggests that the average number of drivers offline is 91 during the observed time.'}\n",
      "{'id': 'econ-1', 'image': 'images/2208.08798_0.jpg', 'options': ['A. An increase in house prices.', 'B. A decrease in the interest rates for mortgages.', 'C. A decline in the number of rooms in a house.', 'D. A reduction in housing market values.', '-'], 'question': 'What does the blue down arrow in the lower right figure most likely represent?', 'label': 'D', 'rationale': 'In the context of the figure, which seems to analyze the housing market, the blue down arrow, positioned on a line graph along with red up arrows, likely symbolizes a downward trend or a decrease. Since the other attributes such as \"rooms,\" \"date,\" \"garden,\" and \"windows\" are listed as variables possibly affecting a house\\'s value, the down arrow most plausibly indicates a reduction in market values rather than the other options which are not directly related to a downward trend.'}\n",
      "{'id': 'econ-88', 'image': 'images/2009.12665_1.jpg', 'options': [\"A. Increasing 'a' and 'b' shifts the function upwards.\", \"B. Increasing 'a' and 'b' makes the function more oscillatory.\", \"C. Increasing 'a' and 'b' changes the amplitude and the center of oscillation of the function.\", \"D. 'a' and 'b' parameters have no effect on the function.\"], 'question': \"What effect do the parameters 'a' and 'b' have on the shape of the function g(Z2a)?\", 'label': 'C', 'rationale': \"The graph shows that as 'a' and 'b' increase from top left to bottom right, the center line of the oscillation shifts, and the amplitude appears to change, indicating that these parameters affect both the oscillation's amplitude and its center.\"}\n",
      "{'id': 'econ-224', 'image': 'images/2106.14351_0.jpg', 'options': ['A) VRE curtailment is constant throughout the dispatch intervals.', 'B) VRE curtailment occurs when the net demand is at its peak.', 'C) VRE curtailment happens when there is an excess of supply over demand.', 'D) There is no VRE curtailment illustrated in the figure.'], 'question': 'Based on the figure, what can be inferred about VRE curtailment?', 'label': 'C', 'rationale': 'VRE curtailment is shown by the grey area below the zero line in the figure. It suggests that curtailment happens when the system net demand could potentially drop below zero, indicating an excess of supply from VRE sources over the demand, which leads to a reduction in VRE output.'}\n",
      "{'id': 'econ-231', 'image': 'images/2106.14351_2.jpg', 'options': ['A) EOM shows a higher occurrence of the highest spot price range.', 'B) EIM shows a higher occurrence of the highest spot price range.', 'C) Both markets show the same occurrence of the highest spot price range.', 'D) Neither market shows any occurrence of the highest spot price range.'], 'question': 'Based on the scenarios presented, which market shows a higher occurrence of the highest spot price range indicated by the color yellow?', 'label': 'A', 'rationale': 'The yellow section of the bar graphs represents the highest spot price range. By comparing the two graphs, it is evident that the EOM graph has larger yellow sections across more scenarios than the EIM graph, indicating a higher occurrence of the highest spot price range in the EOM.'}\n",
      "{'id': 'econ-71', 'image': 'images/2011.11274_1.jpg', 'options': ['A. Life Sciences (LS)', 'B. Science, Technology, Engineering, and Mathematics (STEM)', 'C. Social Sciences and Humanities (SSH)', 'D. There is no visible difference in variance across research areas.'], 'question': 'Based on the figure on the right, which main research area shows the least variance in the predicted yearly number of articles for funded PIs?', 'label': 'C', 'rationale': 'The figure on the right shows the smallest error bars for SSH, indicating the least variance in the predicted yearly number of articles for funded PIs in that area.'}\n",
      "{'id': 'econ-92', 'image': 'images/2305.16255_1.jpg', 'options': ['A. Nuclear', 'B. Wind onshore', 'C. Solar', 'D. Hydro power'], 'question': \"Based on the figure, which energy source's contribution to power generation appears to be the most volatile over the given time period?\", 'label': 'B', 'rationale': 'The wind onshore layer in the power generation graph shows significant fluctuations in its contribution to the total power generation, which indicates higher volatility compared to other energy sources depicted.'}\n",
      "{'id': 'econ-258', 'image': 'images/2305.18949_0.jpg', 'options': ['A) The region has more applicants than the number of enrollments.', 'B) The region has fewer applicants than the number of enrollments.', 'C) The number of applicants is equal to the number of enrollments.', 'D) The region has a ratio of applicants to enrollments between 0.96 and 1.03.'], 'question': 'If a region is in the P50-P74 range in figure (a), what can be inferred about the applicants per enrolled in that region?', 'label': 'D) The region has a ratio of applicants to enrollments between 0.96 and 1.03.', 'rationale': 'The P50-P74 range in figure (a) corresponds to a ratio of applicants per enrolled of 0.96 to 1.03, indicating that the number of applicants is roughly equal to the number of enrollments.'}\n",
      "{'id': 'econ-67', 'image': 'images/2103.03442_3.jpg', 'options': ['A. Wind', 'B. Photovoltaic (PV)', 'C. Combined Cycle Gas Turbine (CCGT)', 'D. Hydro'], 'question': 'What energy source has the largest contribution to the power sector during peak generation times as shown in the figure (a)?', 'label': 'C. Combined Cycle Gas Turbine (CCGT)', 'rationale': 'In figure (a), the color representing CCGT occupies the largest area under the peak generation times, especially when compared to other energy sources.'}\n",
      "{'id': 'econ-300', 'image': 'images/1907.01902_1.jpg', 'options': ['α increases linearly with τ.', 'α and τ are inversely proportional.', 'The relationship between α and τ is nonlinear.', 'α and τ are independent of each other.', '-'], 'question': 'What does the distribution of black dots across the contour lines in the figure suggest about the relationship between α and τ?', 'label': 'C', 'rationale': 'The black dots do not form a straight line but rather follow a curved path across the contour lines, indicating a nonlinear relationship between α and τ.'}\n",
      "{'id': 'econ-285', 'image': 'images/2010.05970_0.jpg', 'options': ['A. The time when the coefficient is at its maximum value', 'B. The start of a significant event or intervention', 'C. The peak of the experimental condition', 'D. The end of data collection'], 'question': 'What does the event time \"0\" on the x-axis most likely represent in this figure?', 'label': 'B', 'rationale': 'In event study charts, the event time \"0\" typically denotes the moment when an event or intervention starts. The coefficients plotted against time show the effect size before and after this event. There is no information to suggest that it corresponds to the maximum value of the coefficient, a peak condition, or the end of data collection.'}\n",
      "{'id': 'econ-233', 'image': 'images/2206.14932_0.jpg', 'options': ['A) Input Variables', 'B) Calculate Index', 'C) Connect with Data Source API', 'D) Specify Trading Conditions', '-'], 'question': 'Which component in the diagram is responsible for the interaction with external data sources?', 'label': 'C) Connect with Data Source API', 'rationale': 'The diagram explicitly states \"Connect with Data Source API\" as a step, which implies it is the component responsible for interacting with external data sources.'}\n",
      "{'id': 'econ-78', 'image': 'images/1910.12545_1.jpg', 'options': ['A. The mean is greater than the median.', 'B. The mean is less than the median.', 'C. The mean and median are approximately equal.', 'D. The relationship between the mean and median cannot be determined.'], 'question': 'Based on the left panel, what can be inferred about the relationship between the mean and the median of the data set?', 'label': 'A. The mean is greater than the median.', 'rationale': 'The mean is represented by a dot that is lower than the median dot on the vertical axis, indicating that the mean is greater than the median in this distribution since the vertical axis is inverted.'}\n",
      "{'id': 'econ-6', 'image': 'images/2205.08996_3.jpg', 'options': ['A) SD_max has no impact on the cumulative economic cost.', 'B) A higher SD_max leads to a higher cumulative economic cost.', 'C) A lower SD_max leads to a higher cumulative economic cost.', 'D) SD_max inversely correlates with the number of weeks.'], 'question': 'What is the impact of the SD_max parameter on the cumulative economic cost in a given strategy?', 'label': 'B', 'rationale': 'The graphs clearly show that as SD_max increases from 30% to 70%, the cumulative economic costs for each strategy also increase, indicating a direct relationship between SD_max and economic costs.'}\n",
      "{'id': 'econ-249', 'image': 'images/2107.06659_3.jpg', 'options': ['A) Returns are less likely to deviate from the mean at shorter time scales.', 'B) Returns are more predictable at longer time scales.', 'C) Extreme returns become less probable as the time scale increases.', 'D) The probability of extreme returns does not change with time scale.'], 'question': 'What can be inferred about the nature of stock index returns over different time scales?', 'label': 'C', 'rationale': 'The figure shows that as the time scale increases (to Δt=1h), the distribution of returns becomes less heavy-tailed and approaches an exponential decay, indicating that extreme returns become less probable. This is evident from the curvature away from the power law line, thus making option C the correct choice.'}\n",
      "{'id': 'econ-4', 'image': 'images/2111.04172_0.jpg', 'options': ['\\\\( x = 0.5 \\\\)', '\\\\( x = 1 \\\\)', '\\\\( x = \\\\hat{y} \\\\)', 'Acting is never efficient regardless of the value of \\\\( x \\\\)'], 'question': 'At what value of \\\\( x \\\\) is acting always efficient regardless of the value of \\\\( y \\\\)?', 'label': 'B', 'rationale': 'The figure shows a line along the right side where \\\\( x = 1 \\\\) labeled \"efficient to act iff \\\\( x = 1 \\\\)\". This suggests that when \\\\( x \\\\) is equal to 1, acting is efficient regardless of \\\\( y \\\\)\\'s value. Hence, B is the correct answer.'}\n",
      "{'id': 'econ-287', 'image': 'images/2010.05970_0.jpg', 'options': ['A. The event was anticipated, leading to changes before it occurred.', 'B. The coefficients were decreasing before the event, suggesting a negative trend.', 'C. The event had no impact as the coefficients did not change.', 'D. There was a high degree of variability before the event, making it hard to predict the impact.'], 'question': \"What does the trend of the coefficients prior to event time suggest about the event's impact?\", 'label': 'A', 'rationale': 'The coefficients prior to event time \"0\" show a trend of being below zero and seem to be heading towards zero as the event approaches. This could suggest that the impact of the event was anticipated, leading to changes in the measured variable before the event actually occurred. There is no evidence of a negative trend or high variability, and saying the event had no impact is not supported as there is a visible trend.'}\n",
      "{'id': 'econ-243', 'image': 'images/2107.06659_2.jpg', 'options': ['α (alpha)', 'β (beta)', 'c1, c2, and c3', 'The parameters do not show a consistent trend.'], 'question': 'According to the figure, which parameter increases for the S&P500 as the time interval Δt goes from 1 second to 1 hour?', 'label': 'C', 'rationale': 'The parameters c1, c2, and c3 for the S&P500 increase when the time interval Δt increases from 1 second to 1 hour. This can be observed by the increasing values in the figure legends (e.g., c1 from 8.3 to 13.4 to 0.95).'}\n",
      "{'id': 'econ-57', 'image': 'images/2205.12881_0.jpg', 'options': ['Certainty increases, as indicated by lines converging.', 'Certainty decreases, as indicated by lines diverging.', 'Certainty remains the same, as indicated by lines running parallel.', 'The model does not provide information about certainty.'], 'question': 'Based on the model predictions, what can be inferred about the certainty of the cutoffs as the capacity per college increases?', 'label': 'A', 'rationale': 'The model prediction graph shows the blue and red lines converging as the capacity per college increases, suggesting increased certainty in the cutoff predictions.'}\n",
      "{'id': 'econ-305', 'image': 'images/1907.01902_2.jpg', 'options': [\"A proposed geological epoch marked by human activities that have a significant global impact on the Earth's geology and ecosystems.\", \"The geological era known for the least human impact on Earth's climate.\", \"A period in Earth's history where human emissions and biosphere degradation have no influence on the climate.\", \"The time frame in which Earth's climate shifts back to glacial conditions naturally.\"], 'question': \"Based on the figure, which statement best describes the term 'Anthropocene'?\", 'label': 'A', 'rationale': \"The term 'Anthropocene' appears in the part of the figure that shows increased temperature and instability correlating with the time humans have significant impact, suggesting it is a proposed epoch marked by significant human influence on the planet.\"}\n",
      "{'id': 'econ-196', 'image': 'images/2211.07412_1.jpg', 'options': ['A. A consistent increase in \\\\( T_{\\\\alpha} \\\\)', 'B. A peak followed by a decrease in \\\\( T_{\\\\alpha} \\\\)', 'C. A consistent decrease in \\\\( T_{\\\\alpha} \\\\)', 'D. No significant change in \\\\( T_{\\\\alpha} \\\\)', '## Figure (e)'], 'question': 'What trend is depicted by the red shaded area in Figure (a) as the normalized distance \\\\( d_{\\\\alpha\\\\beta}/D \\\\) increases?', 'label': 'B', 'rationale': 'The red shaded area in Figure (a) shows a peak at a certain point as \\\\( d_{\\\\alpha\\\\beta}/D \\\\) increases, followed by a decrease, which indicates that \\\\( T_{\\\\alpha} \\\\) first increases to a maximum value and then decreases.'}\n",
      "{'id': 'econ-38', 'image': 'images/2003.07736_3.jpg', 'options': ['Prices are kept constant to maintain fairness.', 'Prices are lowered during off-peak hours.', 'Surge pricing is most aggressively used during early morning hours.', 'Surge pricing fluctuates throughout the day, peaking in the evening.', '## For Figure c (Demand-Surge Correlation)'], 'question': \"What does the data from DCA 19/06/04 in Figure b suggest about Uber's pricing strategy?\", 'label': 'D', 'rationale': \"The total fare graph for DCA 19/06/04 shows fluctuation throughout the day with the highest surge pricing appearing in the evening hours, as indicated by the tallest peaks. This fluctuation and peaking suggest that Uber's pricing strategy involves adjusting prices in response to varying demand, with surge pricing being more aggressive during periods of high demand, such as in the evening.\"}\n",
      "{'id': 'econ-236', 'image': 'images/2206.14932_1.jpg', 'options': ['A) 1,000 units', 'B) 10,000 units', 'C) 100,000 units', 'D) 10,000,000 units', '-'], 'question': 'Based on the trading conditions specified in the diagram, what is the maximum number of units that can be bought or sold in a single transaction?', 'label': 'D) 10,000,000 units', 'rationale': 'The diagram specifies \"max_buy: 10,000,000\" and \"max_sell: 10,000,000,\" indicating that the maximum number of units that can be bought or sold in a single transaction is 10,000,000.'}\n",
      "{'id': 'econ-271', 'image': 'images/2210.07169_0.jpg', 'options': ['A. 0.25', 'B. 0.50', 'C. 0.75', 'D. 1.00'], 'question': 'If a new data point with an average prediction of 0.75 was added to the right figure, what proportion BR value would it most likely correspond to?', 'label': 'C', 'rationale': 'Based on the trend line and the existing data points, a new data point with an average prediction of 0.75 would most likely fall near the line and correspond to a proportion BR of approximately 0.75.'}\n",
      "{'id': 'econ-48', 'image': 'images/1909.03070_0.jpg', 'options': ['A) 99%', 'B) 79.6%', 'C) 100%', 'D) 0%'], 'question': \"According to the basic model (I) with bp=2 and br=3, what is the percentage of the 'Patient' node in the 'CCC' state?\", 'label': 'C', 'rationale': \"In the basic model (I) as shown in figure part (B) with bp=2 and br=3, the 'Patient' node is 100% in the 'CCC' state.\"}\n",
      "{'id': 'econ-17', 'image': 'images/2011.11801_0.jpg', 'options': ['A. Data Analytics', 'B. Social Skills', 'C. Legal & Governance', 'D. Basic Skills'], 'question': 'Which of the following categories in Figure A does not directly correlate with a specific skill set?', 'label': 'D', 'rationale': \"'Basic Skills' is a broad category that encompasses a variety of fundamental abilities rather than a specific technical or professional skill set. In contrast, categories like Data Analytics, Social Skills, and Legal & Governance are associated with specific skill sets relevant to those fields.\"}\n",
      "{'id': 'econ-183', 'image': 'images/2204.01884_0.jpg', 'options': ['A. Contraction BR Score', 'B. Continuous BR Score', 'C. Discontinuous BR Score with σ = 1.00', 'D. Discontinuous BR Score with σ = 0.70'], 'question': 'Based on the provided figures, which graph suggests that the BR Score is most sensitive to changes in the threshold value?', 'label': 'C', 'rationale': 'Sensitivity to changes in the threshold value would be indicated by a steep slope in the graph, where a small change in threshold s leads to a large change in BR Score. The Discontinuous BR Score graph with σ = 1.00 shows a sharp vertical line, meaning that the BR Score increases dramatically at a certain threshold, indicating high sensitivity to threshold changes.'}\n",
      "{'id': 'econ-148', 'image': 'images/2011.01010_0.jpg', 'options': ['A. Each \\\\( A_i \\\\) solely determines the state of \\\\( P_i \\\\) without influence from \\\\( B_i \\\\) or \\\\( W_i \\\\).', 'B. \\\\( P_0 \\\\) progresses to \\\\( P_2 \\\\) independently of the states \\\\( A_i \\\\), \\\\( B_i \\\\), and \\\\( W_i \\\\).', 'C. There is a sequential relationship where each \\\\( P_i \\\\) is influenced by an \\\\( A_i \\\\), \\\\( B_i \\\\), and \\\\( W_i \\\\).', 'D. The states \\\\( A_i \\\\), \\\\( B_i \\\\), and \\\\( W_i \\\\) converge at \\\\( P_2 \\\\) without influencing each other.', '-'], 'question': 'Based on the progression depicted in the figure, what can be inferred about the relationship between elements \\\\( A_i \\\\), \\\\( B_i \\\\), \\\\( P_i \\\\), and \\\\( W_i \\\\)?', 'label': 'C', 'rationale': 'The figure shows a flow diagram where arrows from \\\\( A_i \\\\), \\\\( B_i \\\\), and \\\\( W_i \\\\) point towards corresponding \\\\( P_i \\\\), suggesting a sequential influence on \\\\( P_i \\\\) by the other three elements. Since all three elements \\\\( A_i \\\\), \\\\( B_i \\\\), and \\\\( W_i \\\\) have arrows pointing to each \\\\( P_i \\\\), it implies that \\\\( P_i \\\\) is the result of their combination rather than existing independently or being influenced by just one of the elements.'}\n",
      "{'id': 'econ-11', 'image': 'images/2205.08996_0.jpg', 'options': ['A. The SP Percentage increases as time progresses.', 'B. The SP Percentage remains constant as time progresses.', 'C. The SP Percentage decreases and then increases as time progresses.', 'D. The SP Percentage decreases as time progresses.'], 'question': 'What is the trend of SP Percentage as time progresses from week 1 to week 18 in the second figure of the top row?', 'label': 'D', 'rationale': 'The graph shows a decreasing trend in the SP Percentage from week 1 to week 18. The bars decrease in height as time moves forward, indicating a reduction in the SP Percentage.'}\n",
      "{'id': 'econ-133', 'image': 'images/2012.04103_3.jpg', 'options': ['A) Range of \\\\(\\\\theta_2\\\\) values not included in the study.', 'B) Range of \\\\(\\\\theta_2\\\\) values corresponding to strong fragmentation.', 'C) Range of \\\\(\\\\theta_2\\\\) values with the lowest 1/\\\\(\\\\beta\\\\) measurement.', 'D) Data points that are considered outliers.', '-'], 'question': 'What does the shaded region in the graph represent?', 'label': 'B', 'rationale': 'The shaded regions are labeled \"strongly fragmented,\" indicating that these areas represent the range of \\\\(\\\\theta_2\\\\) values where the strong fragmentation occurs as per the graph.'}\n",
      "{'id': 'econ-79', 'image': 'images/1910.12545_2.jpg', 'options': ['A. Mode, median, and mean', 'B. Mean, median, and mode', 'C. Standard deviation, variance, and mean', 'D. Median, mode, and standard deviation', '-'], 'question': 'What statistical measures are represented at the bottom of the distributions in the given figure?', 'label': 'B', 'rationale': \"The figure displays three pyramidal arrangements of dots, each labeled with 'mean' at the bottom, 'median' in the middle, and 'mode' at the top, from left to right.\"}\n",
      "{'id': 'econ-145', 'image': 'images/2102.00497_1.jpg', 'options': ['A) COVID-related grants and other grants both increased.', 'B) COVID-related grants increased while other grants decreased.', 'C) COVID-related grants decreased while other grants increased.', 'D) Both COVID-related grants and other grants decreased.'], 'question': 'Based on the trends shown in figure (c), what can be inferred about the relationship between COVID-related grants and other grants from 2018 to 2020?', 'label': 'B', 'rationale': 'The red line representing COVID-related grants shows an upward trend from 2018 to 2020, indicating an increase. Conversely, the blue line, representing other grants, shows a downward trend, indicating a decrease. This can be inferred from the natural logarithmic values on the y-axis, which shows higher values for COVID-related grants over time and lower values for other grants.'}\n",
      "{'id': 'econ-69', 'image': 'images/2103.03442_3.jpg', 'options': ['A. Demand', 'B. Demand plus Charge plus Loss', 'C. Demand plus Charge plus Loss plus Electrolyzer', 'D. Total Generation Demand'], 'question': 'In figure (a), what does the dashed line represent?', 'label': 'B. Demand plus Charge plus Loss', 'rationale': 'Figure (a) provides a key indicating that the dashed line represents \"Demand+Charge+Loss.\"'}\n",
      "{'id': 'econ-213', 'image': 'images/1910.05596_2.jpg', 'options': ['A. It is highest at the 1 minute mark.', \"B. It surpasses the 'Transfer' motif at the 1-week mark.\", 'C. It remains constant over all time scales.', 'D. It has the lowest probability density across all time scales.'], 'question': \"Based on the graph, which statement is true regarding the 'Gaming' motif's probability density?\", 'label': 'D. It has the lowest probability density across all time scales.', 'rationale': \"From the graph, we can observe that the 'Gaming' motif, represented by the orange color, consistently has the lowest area under the curve across all time scales, indicating it has the lowest probability density compared to the other motifs.\"}\n",
      "{'id': 'econ-276', 'image': 'images/2206.14932_2.jpg', 'options': [\"A) Comparison of different species' growth rates\", 'B) Analysis of temperature effects on a specific species', 'C) Study of habitat distribution of various species', 'D) Evaluation of pollution levels on aquatic life'], 'question': 'What is the main focus of the graph presented in the figure?', 'label': 'B', 'rationale': \"The graph in the figure primarily displays data points and trends that relate to the effects of temperature on a specific species. This is indicated by the presence of temperature variables and their impact on a single species' trait, rather than comparing different species or studying pollution or habitat distribution.\"}\n",
      "{'id': 'econ-204', 'image': 'images/1810.08581_3.jpg', 'options': ['A. Around 30% and 80% of in-sample data', 'B. Only around 80% of in-sample data', 'C. Only around 30% of in-sample data', 'D. Around 20% and 70% of in-sample data', 'E. The models never converge to the same rNMSE'], 'question': 'At which point(s) do the models G-VARMA and GP-VAR (both from this work) have approximately the same rNMSE?', 'label': 'A. Around 30% and 80% of in-sample data', 'rationale': 'At around 30% and 80% of in-sample data, the lines for G-VARMA (red) and GP-VAR (brown) intersect, indicating similar rNMSE values at these points.'}\n",
      "{'id': 'econ-198', 'image': 'images/2211.07412_1.jpg', 'options': ['A. \\\\( \\\\sigma_{\\\\alpha} \\\\) decreases as \\\\( (d_{\\\\alpha\\\\beta}/D)(C_{\\\\text{min}}/C_{\\\\text{max}}) \\\\) increases.', 'B. \\\\( \\\\sigma_{\\\\alpha} \\\\) increases as \\\\( (d_{\\\\alpha\\\\beta}/D)(C_{\\\\text{min}}/C_{\\\\text{max}}) \\\\) increases.', 'C. \\\\( \\\\sigma_{\\\\alpha} \\\\) remains constant regardless of \\\\( (d_{\\\\alpha\\\\beta}/D)(C_{\\\\text{min}}/C_{\\\\text{max}}) \\\\).', 'D. \\\\( \\\\sigma_{\\\\alpha} \\\\) first increases, then decreases as \\\\( (d_{\\\\alpha\\\\beta}/D)(C_{\\\\text{min}}/C_{\\\\text{max}}) \\\\) increases.'], 'question': 'Which statement best describes the relationship between \\\\( (d_{\\\\alpha\\\\beta}/D)(C_{\\\\text{min}}/C_{\\\\text{max}}) \\\\) and \\\\( \\\\sigma_{\\\\alpha} \\\\) in Figure (f)?', 'label': 'D', 'rationale': 'In Figure (f), \\\\( \\\\sigma_{\\\\alpha} \\\\) follows a trend where it increases up to a certain point and then decreases as \\\\( (d_{\\\\alpha\\\\beta}/D)(C_{\\\\text{min}}/C_{\\\\text{max}}) \\\\) increases, which is depicted by the yellow triangle points forming a peak.'}\n",
      "{'id': 'econ-49', 'image': 'images/1909.03070_1.jpg', 'options': ['A. The probability of a particular event occurring', 'B. The intensity of punishment in the model', 'C. The frequency of a specific behavior in a population', 'D. The level of cooperation between individuals'], 'question': 'What does the color gradient in the figures represent?', 'label': 'A', 'rationale': 'The color gradient on the right side of both panels correlates with the numerical values inside the chart, which likely represent probabilities ranging from 0 to 1, with red indicating higher values (closer to 1) and purple indicating lower values (closer to 0).'}\n",
      "{'id': 'econ-269', 'image': 'images/2210.07169_0.jpg', 'options': ['A. 0.2', 'B. 0.5', 'C. 0.8', 'D. 1.0', '## For the right figure:'], 'question': 'Based on the left figure, if the average prediction is 0.5, which of the following is the most likely proportion BR?', 'label': 'B', 'rationale': 'The data point corresponding to an average prediction of 0.5 is aligned closely with a proportion BR of 0.5 on the line of best fit.'}\n",
      "{'id': 'econ-252', 'image': 'images/1501.03430_0.jpg', 'options': ['A) Oracle', 'B) Stepwise', 'C) Non-orthogonal', 'D) Double-Selection'], 'question': 'Based on the figures, which method appears to have the least variance in the estimation procedure?', 'label': 'A', 'rationale': \"The 'Oracle' histogram is the most tightly clustered around the mean, suggesting that the variance of the estimation procedure is the least for this method compared to the others, which show wider spreads.\"}\n",
      "{'id': 'econ-238', 'image': 'images/2303.03371_2.jpg', 'options': ['A) RUS', 'B) USA', 'C) CHN', 'D) HKG'], 'question': \"Based on the trends shown in the graphs, which country's network structure is most resilient to the removal of intermediaries as indicated by the smallest relative increase in size (BG / DC)?\", 'label': 'D) HKG', 'rationale': \"The graph in (a) shows that HKG's line remains the flattest, indicating the smallest relative increase in size (BG / DC) when intermediaries are removed, compared to the other countries.\"}\n",
      "{'id': 'econ-251', 'image': 'images/1501.03430_0.jpg', 'options': ['A) Oracle', 'B) Stepwise', 'C) Non-orthogonal', 'D) Double-Selection'], 'question': 'Which of the following figures shows a distribution with the least kurtosis?', 'label': 'D', 'rationale': \"The 'Double-Selection' histogram has the flattest peak, which indicates lower kurtosis compared to the sharper peaks seen in the other histograms.\"}\n",
      "{'id': 'econ-188', 'image': 'images/2204.01884_2.jpg', 'options': [\"A) 'Naturals' have a higher peak score distribution than 'Gamers'.\", \"B) 'Gamers' have a wider score distribution than 'Naturals'.\", \"C) Both 'Naturals' and 'Gamers' have the same score distribution.\", \"D) 'Naturals' are more likely to have negative scores than 'Gamers'.\", '-'], 'question': \"Based on the 'Score Distribution when β = β̃' graph, what can be inferred about the score distribution for 'Naturals' and 'Gamers'?\", 'label': 'B', 'rationale': \"The 'Score Distribution when β = β̃' graph shows that the blue bars (Gamers) have a wider spread on the x-axis (Scores) than the orange bars (Naturals), indicating that 'Gamers' have a wider score distribution.\"}\n",
      "{'id': 'econ-210', 'image': 'images/1910.05596_0.jpg', 'options': ['A. Agent A', 'B. Agent B', 'C. Agent C', 'D. Agent i', 'E. Agent j'], 'question': 'If a transaction from Agent D to Agent E occurs, which agent does not influence this transaction based on the transaction network?', 'label': 'B. Agent B', 'rationale': 'In the transaction network, Agent B has no direct connection to either Agent D or Agent E, which implies that Agent B has no influence on a transaction occurring between Agent D and Agent E.'}\n",
      "{'id': 'econ-138', 'image': 'images/1908.02793_0.jpg', 'options': ['A. It reduces the variability of the vote percentage for candidate B.', 'B. It increases the variability of the vote percentage for candidate B.', 'C. It has no effect on the variability of the vote percentage for candidate B.', 'D. It initially increases variability and then reduces it.'], 'question': 'How does the presence of interference affect the variability of the vote percentage for candidate B?', 'label': 'B', 'rationale': 'The gray lines, which represent the vote percentage with interference, show a wider spread and more variability compared to the solid lines representing scenarios without interference.'}\n",
      "{'id': 'econ-94', 'image': 'images/2105.00939_1.jpg', 'options': ['A. The variable has a positive correlation across all continents.', 'B. There is no clear pattern of correlation across the continents.', 'C. The variable has a negative correlation across most continents.', 'D. The variable is most positively correlated in the northern hemisphere.'], 'question': 'What does the top figure suggest about the correlation between the variable measured and the geographical distribution?', 'label': 'C', 'rationale': 'The top figure shows a range of values from -0.94 to 0.73 with most of the continents showing colors closer to the negative side of the spectrum, indicating a predominantly negative correlation.'}\n",
      "{'id': 'econ-273', 'image': 'images/2206.00397_1.jpg', 'options': ['A. Economic scale', 'B. Governmental control scale', 'C. Cultural diversity scale', 'D. Geographical distribution', '-'], 'question': 'What does the vertical axis represent in the given political spectrum chart?', 'label': 'B', 'rationale': \"The vertical axis of the political spectrum chart is labeled with 'Authoritarian' at the top and 'Libertarian' at the bottom, which refers to the scale of governmental control, where 'Authoritarian' implies more control and 'Libertarian' implies less.\"}\n",
      "{'id': 'econ-128', 'image': 'images/2012.04103_0.jpg', 'options': ['A) M1', 'B) M2', 'C) M3', 'D) The data points are evenly distributed across all model regions', '## For figure (c):'], 'question': 'Which model region in figure (b) shows the least agreement with the depicted data points?', 'label': 'C', 'rationale': 'The model region M3, represented by the green background, contains the fewest data points, indicating the least agreement with the depicted data compared to the other regions.'}\n",
      "{'id': 'econ-9', 'image': 'images/2205.08996_0.jpg', 'options': ['A. The willingness to prescribe a treatment', 'B. The willingness to pay per quality-adjusted life year', 'C. The weekly treatment percentage', 'D. The standard deviation of treatment effects'], 'question': 'What variable does the WTP value represent in these figures?', 'label': 'B', 'rationale': \"WTP stands for 'Willingness To Pay', and it is commonly used in health economics to denote the amount of money one is willing to pay for an additional quality-adjusted life year (QALY). In the context of these graphs, it is represented as a monetary value per DALY, which stands for 'Disability-Adjusted Life Year', a measure of overall disease burden.\"}\n",
      "{'id': 'econ-151', 'image': 'images/2110.02358_1.jpg', 'options': ['A) The frequency at which bids are updated in the system.', 'B) The interval for electricity price updates.', 'C) The time taken for the local retail tariffs to change.', 'D) The delay in voltage level adjustments from 13.2 kV to 4.16 kV.'], 'question': 'What does the \"Every 5 min\" notation at the top of the flowchart indicate about the WEM and PMO?', 'label': 'B', 'rationale': 'The \"Every 5 min\" notation is directly linked to WEM (Wholesale Electricity Market) and PMO (Price Monitoring Operation), indicating that it likely refers to the frequency at which Locational Marginal Prices (LMPs) and other market prices are updated, which aligns with option B.'}\n",
      "{'id': 'econ-294', 'image': 'images/2109.06591_1.jpg', 'options': ['A. Computer science', 'B. Physics', 'C. Quantitative biology', 'D. Quantitative finance'], 'question': 'Which field saw the most significant increase in preprints with pandemic-related keywords from 2019 to 2020?', 'label': 'C. Quantitative biology', 'rationale': 'The graph shows a dramatic spike in preprints with pandemic-related keywords in the field of quantitative biology between 2019 and 2020, far exceeding the increases seen in other fields.'}\n",
      "{'id': 'econ-177', 'image': 'images/2304.06205_0.jpg', 'options': ['A) It increased by more than 10%.', 'B) It decreased by more than 10%.', 'C) It increased by less than 5%.', 'D) It stayed roughly the same.'], 'question': 'In comparison to 2019, how did the percentage of districts logging in at least once change in 2020?', 'label': 'C) It increased by less than 5%.', 'rationale': 'By looking at the positions of the blue dots for 2019 and 2020, we can estimate the difference in percentage. The blue dot for 2020 is only slightly higher than the one for 2019, suggesting an increase by less than 5%.'}\n",
      "{'id': 'econ-235', 'image': 'images/2206.14932_1.jpg', 'options': ['A) Simple Weighted Moving Average', 'B) Short Window Moving Average', 'C) Standard Weighted Market Analysis', 'D) Synchronized Wave Market Adjustment', '-'], 'question': 'What does SWMA stand for in the context of this trading strategy diagram?', 'label': 'B) Short Window Moving Average', 'rationale': 'In the diagram, SWMA is explicitly defined as the \"Short-window Moving Average,\" which is commonly a 50-day moving average used for generating buy and sell signals in trading.'}\n",
      "{'id': 'econ-156', 'image': 'images/2304.04849_0.jpg', 'options': ['It is higher than when the school population is 50% White.', 'It is equal to the rate when the school population is 50% White.', 'It is lower than when the school population is 0% White.', 'It cannot be determined from the graph.'], 'question': 'Based on the graph, which statement best describes the Black/White relative rate of advanced enrollment when the school population is 100% White?', 'label': 'A', 'rationale': 'According to the graph, the Black/White relative rate of advanced enrollment is higher at the 100% White mark than at the 50% mark, as indicated by the upward curve after the 50% point.'}\n",
      "{'id': 'econ-66', 'image': 'images/2103.03442_2.jpg', 'options': ['A. Li-ion Battery', 'B. Wind', 'C. PV (Photovoltaic)', 'D. CCGT (Combined Cycle Gas Turbine)'], 'question': 'What is the predominant source of power generation at a carbon price of $50/tonne in Figure (b)?', 'label': 'D. CCGT', 'rationale': 'At a carbon price of $50/tonne in Figure (b), the largest portion of the power capacity is from CCGT, which is evident from the highest bar in the stack at that carbon price point.'}\n",
      "{'id': 'econ-268', 'image': 'images/2210.07169_0.jpg', 'options': ['A. The variability decreases as the average prediction increases.', 'B. The variability remains consistent across all values of average prediction.', 'C. There is no variability; the data points are fixed.', 'D. The variability increases as the average prediction increases.'], 'question': 'How would you describe the variability of the proportion BR with respect to the average prediction in the left figure?', 'label': 'B', 'rationale': 'The error bars, which indicate variability, are fairly consistent in size throughout the range of average predictions, suggesting that the variability of the proportion BR does not significantly change as the average prediction increases.'}\n",
      "{'id': 'econ-194', 'image': 'images/2211.07412_0.jpg', 'options': ['A. \\\\( p_\\\\alpha \\\\) is generally higher than \\\\( p_\\\\beta \\\\).', 'B. \\\\( p_\\\\alpha \\\\) is generally lower than \\\\( p_\\\\beta \\\\).', 'C. \\\\( p_\\\\alpha \\\\) and \\\\( p_\\\\beta \\\\) are equal.', 'D. \\\\( p_\\\\alpha \\\\) and \\\\( p_\\\\beta \\\\) are unrelated.'], 'question': 'Based on the trends shown in figure (b), how do the prices \\\\( p_\\\\alpha \\\\) and \\\\( p_\\\\beta \\\\) compare?', 'label': 'A', 'rationale': 'The graph in figure (b) shows two lines: \\\\( p_\\\\alpha \\\\) in purple and \\\\( p_\\\\beta \\\\) in red. Across the entire time step range, the purple line, representing \\\\( p_\\\\alpha \\\\), is consistently above the red line, indicating that \\\\( p_\\\\alpha \\\\) is generally higher than \\\\( p_\\\\beta \\\\).'}\n",
      "{'id': 'econ-36', 'image': 'images/2003.07736_3.jpg', 'options': ['The total fare is mostly comprised of the base cost.', 'Surge pricing has a minimal effect on the total fare.', 'The base cost fluctuates more than the total fare.', 'Surge pricing significantly contributes to the total fare at certain times.'], 'question': 'What can be inferred from the total fare and base cost graphs in Figure b?', 'label': 'D', 'rationale': 'The total fare graph shows several spikes that are not present in the base cost graph. This indicates that there are additional costs contributing to the total fare beyond the base cost, which can be attributed to surge pricing. The spikes in total fare correspond to the surge fee increases, indicating that surge pricing can significantly contribute to the total fare during certain times of the day.'}\n",
      "{'id': 'econ-74', 'image': 'images/2011.11274_2.jpg', 'options': ['A. Researchers with no SNSF funding.', 'B. Researchers funded as Principal Investigator (PI).', 'C. Researchers funded as Co-Principal Investigator (Co-PI) only.', 'D. The graph does not provide enough information to determine this.'], 'question': 'Based on the funding status, which group is predicted to have the highest average number of citations per article in the Life Sciences (LS) field?', 'label': 'B', 'rationale': 'The graph on the right under \"LS\" shows that researchers funded as PI have the highest error bars indicating the highest average number of citations per article.'}\n",
      "{'id': 'econ-62', 'image': 'images/2103.03442_1.jpg', 'options': ['A. Zone 1', 'B. Zone 3', 'C. Zone 5', 'D. Zone 6'], 'question': 'Which zone has the least average power load in GW as shown in figure (b)?', 'label': 'A', 'rationale': 'In figure (b), Zone 1 has the shortest blue bar, representing the lowest average power load in GW among the zones.'}\n",
      "{'id': 'econ-105', 'image': 'images/2106.15844_0.jpg', 'options': ['A. The process becomes less defined as depth increases.', 'B. The depth of the process is strictly linear without variations.', 'C. Each depth represents a diminishing level of importance.', 'D. There is an increasing complexity or number of steps as depth increases.'], 'question': 'What can be deduced about the progression of depths in this figure?', 'label': 'A', 'rationale': 'The transition from solid to dashed lines as depth increases suggests that the process becomes less defined, indicating a move towards greater uncertainty or complexity with increasing depth.'}\n",
      "{'id': 'econ-86', 'image': 'images/2012.15007_0.jpg', 'options': [\"Resident's fitness is always higher than both inferred F_H and F_L.\", \"Resident's fitness is constant and becomes lower than F_H as assortativity increases.\", \"Resident's fitness is constant and is higher than F_L regardless of assortativity.\", \"Resident's fitness increases with assortativity, similar to F_H.\"], 'question': \"Based on the graph, how does the resident's fitness compare to theory B's fitness as assortativity changes?\", 'label': 'B', 'rationale': \"The resident's fitness is represented by a dashed horizontal line, indicating it remains constant across different levels of assortativity. As the assortativity increases, the blue line (F_H) surpasses the dashed line, indicating that F_H becomes higher than the resident's fitness.\"}\n",
      "{'id': 'econ-33', 'image': 'images/2003.07736_3.jpg', 'options': ['Demand and supply are directly proportional.', 'Demand and supply are independent of each other.', 'Demand inversely correlates with supply.', 'Supply is constant regardless of demand.'], 'question': 'What does the bottom graph of Figure a suggest about the relationship between demand and supply?', 'label': 'C', 'rationale': 'The bottom graph of Figure a shows two lines: one for demand and one for supply. The demand line peaks where the supply line dips and vice versa, indicating that as demand increases, supply decreases, and this inversely proportional relationship suggests an inverse correlation between the two.'}\n",
      "{'id': 'econ-290', 'image': 'images/2002.07880_3.jpg', 'options': ['Approximately 25%', 'Approximately 50%', 'Approximately 75%', 'Approximately 100%'], 'question': 'Based on the CDF curve for the reshuffled data, what proportion of nodes have a weighted clustering coefficient of 0.5 or less?', 'label': 'C', 'rationale': 'The CDF curve for the reshuffled data (red dots) reaches 0.75 at a weighted clustering coefficient value of 0.5, which indicates that approximately 75% of the nodes have a weighted clustering coefficient of 0.5 or less. The CDF curve shows the probability that a variable will take a value less than or equal to a certain value, so where it reaches 0.75 corresponds to the 75th percentile.'}\n",
      "{'id': 'econ-240', 'image': 'images/2303.03371_2.jpg', 'options': ['A) RUS', 'B) USA', 'C) CHN', 'D) HKG'], 'question': 'Which country exhibits the most significant increase in network redundancy after two intermediaries are removed, as shown in graph (d)?', 'label': 'C) CHN', 'rationale': \"In graph (d), the line for CHN shows the steepest ascent after two intermediaries are removed, suggesting that CHN's network experiences the most significant increase in redundancy.\"}\n",
      "{'id': 'econ-5', 'image': 'images/2111.04172_0.jpg', 'options': ['Acting is efficient only if \\\\( y = 1 \\\\).', 'Acting is never efficient.', 'Acting is always efficient.', 'There is no information provided for the value of \\\\( \\\\hat{y} \\\\).'], 'question': 'Which statement is true according to the figure for the value of \\\\( \\\\hat{y} \\\\)?', 'label': 'C', 'rationale': 'The dashed line labeled \\\\( \\\\hat{y} \\\\) intersects the shaded area at a point that is also labeled \"always efficient to act\". This implies that at the value of \\\\( \\\\hat{y} \\\\), it is always efficient to act, making C the correct answer.'}\n",
      "{'id': 'econ-26', 'image': 'images/2003.07736_1.jpg', 'options': ['The minimum total fare over time', 'The maximum total fare over time', \"The driver's optimal price point\", 'The actual total fare over time'], 'question': 'What does the dashed line in Figure c represent?', 'label': 'C', 'rationale': 'In Figure c, the dashed line is labeled as \"driver optimal price,\" indicating that it represents the price point which is considered optimal for drivers, rather than the actual fare or any maximum/minimum fare values.'}\n",
      "{'id': 'econ-197', 'image': 'images/2211.07412_1.jpg', 'options': ['A. 0.25', 'B. 0.50', 'C. 0.75', 'D. 1.00', '## Figure (f)'], 'question': 'In Figure (e), at what approximate value of \\\\( d_{\\\\alpha\\\\beta}/D \\\\) does \\\\( \\\\sigma_{\\\\alpha} \\\\) reach its maximum?', 'label': 'B', 'rationale': 'The purple points, which represent \\\\( \\\\sigma_{\\\\alpha} \\\\), reach their maximum at a \\\\( d_{\\\\alpha\\\\beta}/D \\\\) value of approximately 0.50, as seen in the graph.'}\n",
      "{'id': 'econ-175', 'image': 'images/2304.06205_0.jpg', 'options': ['A) 2018', 'B) 2019', 'C) 2020', 'D) 2021', '-'], 'question': 'Which year saw the highest percentage of districts logging in at least once according to the DEWS Usage Statistics?', 'label': 'D) 2021', 'rationale': 'The blue dots represent the percentage of districts logging in at least once. By observing the graph, the highest blue dot is aligned with the year 2021, indicating the highest percentage for that year.'}\n",
      "{'id': 'econ-136', 'image': 'images/1908.02793_0.jpg', 'options': ['A. It increases steadily over time.', 'B. It decreases steadily over time.', 'C. It remains relatively constant over time.', 'D. It shows an initial increase and then a decrease.'], 'question': \"What is the general trend of candidate B's vote percentage over time without interference?\", 'label': 'C', 'rationale': \"The thick black line representing the vote percentage without interference is relatively flat across the time span of one year, indicating that candidate B's vote percentage remains relatively constant over time.\"}\n",
      "{'id': 'econ-174', 'image': 'images/2006.09007_2.jpg', 'options': ['A. It was steadily increasing.', 'B. It was largely stable with little change.', 'C. It was steadily decreasing.', 'D. It cannot be determined from the graph.'], 'question': 'Based on the graph, which statement can be inferred about the trend before 1970?', 'label': 'D', 'rationale': 'The graph does not provide data prior to 1960, and the trend from 1960 to 1970 does not show a clear pattern of increase or decrease. Therefore, the trend before 1970 cannot be determined from the provided graph, making D the correct choice.'}\n",
      "{'id': 'econ-226', 'image': 'images/2106.14351_1.jpg', 'options': ['A. The left graph shows a more consistent curtailment across dispatch intervals.', 'B. The left graph indicates that Load_2 is always curtailed more than Load_1.', 'C. The left graph demonstrates that Load_1 and Load_2 are curtailed without priority.', 'D. The left graph shows curtailment only occurs during peak dispatch intervals.'], 'question': 'What does the left graph (i) indicate about the load curtailment strategy compared to the right graph (ii)?', 'label': 'C', 'rationale': 'The left graph (i) titled \"Standard load curtailment\" shows that Load_1 and Load_2 are curtailed in a similar fashion across all dispatch intervals, which implies there is no priority given to either load. This is contrasted by the right graph (ii), which indicates priority curtailment and shows almost no curtailment for Load_1.'}\n",
      "{'id': 'econ-168', 'image': 'images/2006.09007_1.jpg', 'options': ['Late 1970s', 'Early 1990s', 'Early 2000s', 'After 2010'], 'question': 'In the \"Data Revisions vs VIX\" graph, which period shows the highest spike in correlation?', 'label': 'C', 'rationale': 'The \"Data Revisions vs VIX\" graph shows the highest spike occurring in the early 2000s, as indicated by the sharp rise in the line which far exceeds any other point on the graph.'}\n",
      "{'id': 'econ-93', 'image': 'images/2305.16255_1.jpg', 'options': ['A. April 26th', 'B. April 28th', 'C. May 1st', 'D. May 4th'], 'question': 'On what date did the electricity price dip below zero, as shown in the figure?', 'label': 'B', 'rationale': 'The figure shows a dip in the electricity price below zero around April 28th, which can be identified by the negative values on the electricity price trend line.'}\n",
      "{'id': 'econ-131', 'image': 'images/2012.04103_2.jpg', 'options': ['A. The system moves towards a higher preference for market M2 as indicated by the shift in peak positions.', \"B. The system's stability increases as it moves from state (a) to state (c).\", 'C. The red star peak positions in plot (c) indicate a higher stability compared to plots (a) and (b).', 'D. The system exhibits a chaotic behavior with no clear preference for any market.', '-'], 'question': 'Based on the vector field plots labeled (a), (b), and (c), what can be inferred about the state of the system?', 'label': 'A', 'rationale': 'The vector fields in plots (a), (b), and (c) show the flow of the system, with the red stars in plot (c) indicating the preferred states in market M3. This suggests that as the system evolves, there is a transition towards a higher preference for market M2, consistent with the shift in peak positions shown in the lower part of the figure.'}\n",
      "{'id': 'econ-247', 'image': 'images/2107.06659_3.jpg', 'options': ['A) The distribution of returns follows a uniform distribution across different time scales.', 'B) The distribution of returns follows a power law distribution at shorter time scales and an exponential distribution at longer time scales.', 'C) The returns are normally distributed regardless of the time scale.', 'D) The distribution of returns does not vary with time scales.', '-'], 'question': 'What does the figure suggest about the distribution of returns for various stock indices at different time scales?', 'label': 'B', 'rationale': 'The figure displays a log-log plot of the distribution of returns for various stock indices (NQ100, DJI, S&P500, DAX, FTSE100, CAC) over different time scales. The straight lines on the log-log scale suggest a power law behavior characterized by the slope of the line, while the curvature in the longer time scales (Δt=1h) suggests an exponential decay, hence option B is correct.'}\n"
     ]
    },
    {
     "data": {
      "text/plain": "defaultdict(int,\n            {'Physics': 58895,\n             'ComputerScience': 24625,\n             'Statistics': 4395,\n             'Mathematics': 4363,\n             'QuantitativeBiology': 3922,\n             '-1': 469,\n             'ElectricalEngineeringandSystemsScience': 2935,\n             'QuantitativeFinance': 305,\n             'Economics': 91})"
     },
     "execution_count": 62,
     "metadata": {},
     "output_type": "execute_result"
    }
   ],
   "source": [
    "categories = {\n",
    "    'physics': \"Physics\",  #  物理学\n",
    "    'astro-ph': \"Physics\",\n",
    "    'hep-ph': \"Physics\",\n",
    "    'quant-ph': \"Physics\",\n",
    "    'cond-mat': \"Physics\",\n",
    "    'nlin': \"Physics\",\n",
    "    'gr-qc': \"Physics\",\n",
    "    'hep-th': \"Physics\",\n",
    "    'nucl-ex': \"Physics\",\n",
    "    'hep-ex': \"Physics\",\n",
    "    'hep-lat': \"Physics\",\n",
    "    'nucl-th': \"Physics\",\n",
    "    'chao-dyn': \"Physics\",\n",
    "    'math': \"Mathematics\",  # 数学\n",
    "    'cs': \"ComputerScience\",  # 计算机科学\n",
    "    'q-bio': \"QuantitativeBiology\",  # 量化生物学\n",
    "    'q-fin': \"QuantitativeFinance\",  # 量化金融\n",
    "    'stat': \"Statistics\",  # 统计学\n",
    "    'eess': \"ElectricalEngineeringandSystemsScience\",  # 电气工程和系统科学\n",
    "    'econ': \"Economics\",  # 经济学\n",
    "    'patt-sol': \"-1\",  # xxx 少\n",
    "    'adap-org': \"-1\",  # xxx 少\n",
    "    'mtrl-th': \"-1\",  # xxx 少\n",
    "    'supr-con': \"-1\",  # xxx 少\n",
    "    'chem-ph': \"-1\",  # xxx 少\n",
    "    'math-ph': \"-1\",  # 数学物理学 xxx\n",
    "    'cmp-lg': \"-1\",  # 计算机语言 xxxx 少\n",
    "}\n",
    "categories_cnt = defaultdict(int)\n",
    "ids = defaultdict(int)\n",
    "for item in data:\n",
    "    id = item[\"id\"]\n",
    "    id = '-'.join(id.split(\"-\")[:-1])\n",
    "    if id == 'econ':\n",
    "        print(item)\n",
    "    categories_cnt[categories[id]] += 1\n",
    "    ids[id] += 1\n",
    "categories_cnt"
   ],
   "metadata": {
    "collapsed": false,
    "ExecuteTime": {
     "end_time": "2024-08-14T13:49:54.684086Z",
     "start_time": "2024-08-14T13:49:54.480817Z"
    }
   },
   "id": "3e1af21a8c635c5b",
   "execution_count": 62
  },
  {
   "cell_type": "code",
   "outputs": [
    {
     "name": "stdout",
     "output_type": "stream",
     "text": [
      "images/patt-sol9303001_3.jpg\n",
      "images/patt-sol9902006_2.jpg\n",
      "images/patt-sol9807001_1.jpg\n",
      "images/patt-sol9812004_0.jpg\n",
      "images/patt-sol9807001_1.jpg\n",
      "images/patt-sol9507003_2.jpg\n",
      "images/patt-sol9902006_1.jpg\n"
     ]
    }
   ],
   "source": [
    "ids = defaultdict(int)\n",
    "for item in data:\n",
    "    id = item[\"id\"]\n",
    "    id = '-'.join(id.split(\"-\")[:-1])\n",
    "    if id == 'patt-sol':\n",
    "        print(item[\"image\"])\n"
   ],
   "metadata": {
    "collapsed": false,
    "ExecuteTime": {
     "end_time": "2024-08-14T13:30:43.423338Z",
     "start_time": "2024-08-14T13:30:43.372835Z"
    }
   },
   "id": "d86eec81ed0ef468",
   "execution_count": 55
  },
  {
   "cell_type": "code",
   "outputs": [],
   "source": [],
   "metadata": {
    "collapsed": false
   },
   "id": "e82132db3af13adb"
  }
 ],
 "metadata": {
  "kernelspec": {
   "display_name": "Python 3",
   "language": "python",
   "name": "python3"
  },
  "language_info": {
   "codemirror_mode": {
    "name": "ipython",
    "version": 2
   },
   "file_extension": ".py",
   "mimetype": "text/x-python",
   "name": "python",
   "nbconvert_exporter": "python",
   "pygments_lexer": "ipython2",
   "version": "2.7.6"
  }
 },
 "nbformat": 4,
 "nbformat_minor": 5
}
