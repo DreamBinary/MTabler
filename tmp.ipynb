{
 "cells": [
  {
   "cell_type": "code",
   "execution_count": 1,
   "id": "initial_id",
   "metadata": {
    "collapsed": true,
    "ExecuteTime": {
     "end_time": "2024-08-17T11:51:18.310614Z",
     "start_time": "2024-08-17T11:51:14.514120Z"
    }
   },
   "outputs": [],
   "source": [
    "import torch\n",
    "\n",
    "model = torch.load(\"model/llava-onevision-projectors/mm_projector.bin\")"
   ]
  },
  {
   "cell_type": "code",
   "outputs": [
    {
     "data": {
      "text/plain": "{'model.mm_projector.0.weight': tensor([[-0.0083, -0.0447, -0.0079,  ..., -0.0654,  0.0071, -0.0021],\n         [-0.0464, -0.0133,  0.0398,  ...,  0.0283, -0.0693, -0.0057],\n         [-0.0168, -0.0435,  0.0049,  ...,  0.0366,  0.0078,  0.0393],\n         ...,\n         [-0.0066,  0.0152, -0.0001,  ..., -0.0476,  0.0164, -0.0154],\n         [-0.0464,  0.0371, -0.0121,  ...,  0.0139,  0.0234, -0.0128],\n         [ 0.0019,  0.0039, -0.0267,  ...,  0.0056, -0.0160, -0.0129]],\n        dtype=torch.bfloat16),\n 'model.mm_projector.0.bias': tensor([-0.0020, -0.0103,  0.0204,  ..., -0.0317, -0.0311, -0.0063],\n        dtype=torch.bfloat16),\n 'model.mm_projector.2.weight': tensor([[ 0.0459,  0.0057, -0.0182,  ..., -0.0027,  0.0267, -0.0223],\n         [-0.0084,  0.0130, -0.0248,  ...,  0.0125,  0.0039,  0.0170],\n         [ 0.0620, -0.0063, -0.0188,  ..., -0.0258, -0.0620, -0.0107],\n         ...,\n         [-0.0239,  0.0444, -0.0320,  ...,  0.0449, -0.0006,  0.0291],\n         [-0.0087,  0.0442,  0.0089,  ...,  0.0014,  0.0123, -0.0176],\n         [ 0.0134,  0.0137, -0.0055,  ..., -0.0139, -0.0400, -0.0109]],\n        dtype=torch.bfloat16),\n 'model.mm_projector.2.bias': tensor([ 0.0139,  0.0178, -0.0320,  ..., -0.0132, -0.0276,  0.0051],\n        dtype=torch.bfloat16)}"
     },
     "execution_count": 2,
     "metadata": {},
     "output_type": "execute_result"
    }
   ],
   "source": [
    "model"
   ],
   "metadata": {
    "collapsed": false,
    "ExecuteTime": {
     "end_time": "2024-08-17T11:51:18.384063Z",
     "start_time": "2024-08-17T11:51:18.314066Z"
    }
   },
   "id": "1408bafff6b9cd13",
   "execution_count": 2
  },
  {
   "cell_type": "code",
   "outputs": [
    {
     "data": {
      "text/plain": "dict_keys(['model.mm_projector.0.weight', 'model.mm_projector.0.bias', 'model.mm_projector.2.weight', 'model.mm_projector.2.bias'])"
     },
     "execution_count": 3,
     "metadata": {},
     "output_type": "execute_result"
    }
   ],
   "source": [
    "model.keys()"
   ],
   "metadata": {
    "collapsed": false,
    "ExecuteTime": {
     "end_time": "2024-08-17T11:51:42.355449Z",
     "start_time": "2024-08-17T11:51:42.345407Z"
    }
   },
   "id": "e2578106a3eb5943",
   "execution_count": 3
  },
  {
   "cell_type": "code",
   "outputs": [],
   "source": [
    "def get_w(weights, keyword):\n",
    "    return {k.split(keyword + \".\")[1]: v for k, v in weights.items() if keyword in k}"
   ],
   "metadata": {
    "collapsed": false,
    "ExecuteTime": {
     "end_time": "2024-08-17T11:53:41.017873Z",
     "start_time": "2024-08-17T11:53:41.010415Z"
    }
   },
   "id": "d98743d165582481",
   "execution_count": 4
  },
  {
   "cell_type": "code",
   "outputs": [
    {
     "data": {
      "text/plain": "{'0.weight': tensor([[-0.0083, -0.0447, -0.0079,  ..., -0.0654,  0.0071, -0.0021],\n         [-0.0464, -0.0133,  0.0398,  ...,  0.0283, -0.0693, -0.0057],\n         [-0.0168, -0.0435,  0.0049,  ...,  0.0366,  0.0078,  0.0393],\n         ...,\n         [-0.0066,  0.0152, -0.0001,  ..., -0.0476,  0.0164, -0.0154],\n         [-0.0464,  0.0371, -0.0121,  ...,  0.0139,  0.0234, -0.0128],\n         [ 0.0019,  0.0039, -0.0267,  ...,  0.0056, -0.0160, -0.0129]],\n        dtype=torch.bfloat16),\n '0.bias': tensor([-0.0020, -0.0103,  0.0204,  ..., -0.0317, -0.0311, -0.0063],\n        dtype=torch.bfloat16),\n '2.weight': tensor([[ 0.0459,  0.0057, -0.0182,  ..., -0.0027,  0.0267, -0.0223],\n         [-0.0084,  0.0130, -0.0248,  ...,  0.0125,  0.0039,  0.0170],\n         [ 0.0620, -0.0063, -0.0188,  ..., -0.0258, -0.0620, -0.0107],\n         ...,\n         [-0.0239,  0.0444, -0.0320,  ...,  0.0449, -0.0006,  0.0291],\n         [-0.0087,  0.0442,  0.0089,  ...,  0.0014,  0.0123, -0.0176],\n         [ 0.0134,  0.0137, -0.0055,  ..., -0.0139, -0.0400, -0.0109]],\n        dtype=torch.bfloat16),\n '2.bias': tensor([ 0.0139,  0.0178, -0.0320,  ..., -0.0132, -0.0276,  0.0051],\n        dtype=torch.bfloat16)}"
     },
     "execution_count": 5,
     "metadata": {},
     "output_type": "execute_result"
    }
   ],
   "source": [
    "get_w(model, \"mm_projector\")"
   ],
   "metadata": {
    "collapsed": false,
    "ExecuteTime": {
     "end_time": "2024-08-17T11:53:53.581075Z",
     "start_time": "2024-08-17T11:53:53.547831Z"
    }
   },
   "id": "95441017676a3ec6",
   "execution_count": 5
  },
  {
   "cell_type": "code",
   "outputs": [
    {
     "name": "stdout",
     "output_type": "stream",
     "text": [
      "Start help_process\n",
      "-->> help_process: A table\n",
      "Start tsr_process\n",
      "-->> tsr_process: image2.jpg\n",
      "-->> help_process: A table\n",
      "-->> help_process: A table\n",
      "-->> help_process: A table\n",
      "-->> help_process: A table\n",
      "-->> tsr_process: image2.jpg\n",
      "-->> help_process: A table\n",
      "-->> help_process: A table\n",
      "-->> help_process: A table\n"
     ]
    }
   ],
   "source": [
    "import asyncio\n",
    "\n",
    "\n",
    "class Admin:\n",
    "    def __init__(self, data, data2):\n",
    "        self.data = data\n",
    "        self.data2 = data2\n",
    "        self.tsr_result = []\n",
    "        self.help_result = []\n",
    "        # 初始化其他必要的成员变量，例如模型和处理器\n",
    "\n",
    "    async def tsr_process(self):\n",
    "        print(\"Start tsr_process\")\n",
    "        for item in self.data2:\n",
    "            print(\"-->> tsr_process:\", item[\"image_path\"])\n",
    "            await asyncio.sleep(5)\n",
    "\n",
    "    async def help_process(self):\n",
    "        print(\"Start help_process\")\n",
    "        generation_config = dict(max_new_tokens=64, do_sample=False)\n",
    "        for item in self.data:\n",
    "            print(\"-->> help_process:\", item[\"caption\"])\n",
    "            await asyncio.sleep(1)\n",
    "\n",
    "    async def run(self):\n",
    "        tasks = [\n",
    "            asyncio.create_task(self.help_process()),\n",
    "            asyncio.create_task(self.tsr_process())\n",
    "        ]\n",
    "        await asyncio.gather(*tasks)\n",
    "\n",
    "\n",
    "# 初始化示例数据\n",
    "data = [{\"image_path\": \"image1.jpg\", \"caption\": \"A table\", \"question\": \"What is this?\",\n",
    "         \"options\": [\"A\", \"B\", \"C\", \"D\"]}] * 10\n",
    "data2 = [{\"image_path\": \"image2.jpg\"}] * 10\n",
    "\n",
    "# 创建 Admin 实例并运行任务\n",
    "admin = Admin(data, data2)\n",
    "await admin.run()"
   ],
   "metadata": {
    "collapsed": false,
    "is_executing": true,
    "ExecuteTime": {
     "start_time": "2024-08-20T13:18:59.499952Z"
    }
   },
   "id": "4ad8672109490072",
   "execution_count": null
  },
  {
   "cell_type": "code",
   "outputs": [
    {
     "name": "stdout",
     "output_type": "stream",
     "text": [
      "Running\n",
      "Data1: [1]\n",
      "Data2: []\n",
      "Processed: (1, 1)\n",
      "Data1: [2]\n",
      "Data2: []\n",
      "Data1: [3]\n",
      "Processed: (2, 2)\n",
      "Data1: [3, 4]\n",
      "Data2: []\n",
      "Processed: (3, 3)\n",
      "Data1: [4, 5]\n",
      "Data2: []\n",
      "Data1: [5, 6]\n",
      "Processed: (4, 4)\n"
     ]
    },
    {
     "name": "stderr",
     "output_type": "stream",
     "text": [
      "/root/anaconda3/envs/llava/lib/python3.10/genericpath.py:77: RuntimeWarning: coroutine 'main' was never awaited\n",
      "  m = tuple(map(os.fspath, m))\n",
      "RuntimeWarning: Enable tracemalloc to get the object allocation traceback\n"
     ]
    },
    {
     "ename": "CancelledError",
     "evalue": "",
     "output_type": "error",
     "traceback": [
      "\u001B[0;31m---------------------------------------------------------------------------\u001B[0m",
      "\u001B[0;31mCancelledError\u001B[0m                            Traceback (most recent call last)",
      "File \u001B[0;32m~/anaconda3/envs/llava/lib/python3.10/asyncio/tasks.py:605\u001B[0m, in \u001B[0;36msleep\u001B[0;34m(delay, result)\u001B[0m\n\u001B[1;32m    604\u001B[0m \u001B[38;5;28;01mtry\u001B[39;00m:\n\u001B[0;32m--> 605\u001B[0m     \u001B[38;5;28;01mreturn\u001B[39;00m \u001B[38;5;28;01mawait\u001B[39;00m future\n\u001B[1;32m    606\u001B[0m \u001B[38;5;28;01mfinally\u001B[39;00m:\n",
      "\u001B[0;31mCancelledError\u001B[0m: ",
      "\nDuring handling of the above exception, another exception occurred:\n",
      "\u001B[0;31mCancelledError\u001B[0m                            Traceback (most recent call last)",
      "Cell \u001B[0;32mIn[5], line 2\u001B[0m\n\u001B[1;32m      1\u001B[0m admin \u001B[38;5;241m=\u001B[39m Admin()\n\u001B[0;32m----> 2\u001B[0m \u001B[38;5;28;01mawait\u001B[39;00m admin\u001B[38;5;241m.\u001B[39mrun()\n",
      "Cell \u001B[0;32mIn[4], line 19\u001B[0m, in \u001B[0;36mAdmin.run\u001B[0;34m(self)\u001B[0m\n\u001B[1;32m     13\u001B[0m \u001B[38;5;28mprint\u001B[39m(\u001B[38;5;124m\"\u001B[39m\u001B[38;5;124mRunning\u001B[39m\u001B[38;5;124m\"\u001B[39m)\n\u001B[1;32m     14\u001B[0m tasks \u001B[38;5;241m=\u001B[39m [\n\u001B[1;32m     15\u001B[0m     asyncio\u001B[38;5;241m.\u001B[39mcreate_task(\u001B[38;5;28mself\u001B[39m\u001B[38;5;241m.\u001B[39mprocess_data_pre(\u001B[38;5;28mself\u001B[39m\u001B[38;5;241m.\u001B[39mdata2, \u001B[38;5;28mself\u001B[39m\u001B[38;5;241m.\u001B[39mdata1, \u001B[38;5;124m\"\u001B[39m\u001B[38;5;124mData1\u001B[39m\u001B[38;5;124m\"\u001B[39m)),\n\u001B[1;32m     16\u001B[0m     asyncio\u001B[38;5;241m.\u001B[39mcreate_task(\u001B[38;5;28mself\u001B[39m\u001B[38;5;241m.\u001B[39mprocess_data_pre(\u001B[38;5;28mself\u001B[39m\u001B[38;5;241m.\u001B[39mdata1, \u001B[38;5;28mself\u001B[39m\u001B[38;5;241m.\u001B[39mdata2, \u001B[38;5;124m\"\u001B[39m\u001B[38;5;124mData2\u001B[39m\u001B[38;5;124m\"\u001B[39m)),\n\u001B[1;32m     17\u001B[0m     asyncio\u001B[38;5;241m.\u001B[39mcreate_task(\u001B[38;5;28mself\u001B[39m\u001B[38;5;241m.\u001B[39mprocess_data())\n\u001B[1;32m     18\u001B[0m ]\n\u001B[0;32m---> 19\u001B[0m \u001B[38;5;28;01mawait\u001B[39;00m asyncio\u001B[38;5;241m.\u001B[39mgather(\u001B[38;5;241m*\u001B[39mtasks)\n",
      "\u001B[0;31mCancelledError\u001B[0m: "
     ]
    }
   ],
   "source": [
    "admin = Admin()\n",
    "await admin.run()"
   ],
   "metadata": {
    "collapsed": false,
    "ExecuteTime": {
     "end_time": "2024-08-20T09:05:34.523509Z",
     "start_time": "2024-08-20T09:05:22.382381Z"
    }
   },
   "id": "68d2bd7fbb0af97a",
   "execution_count": 5
  },
  {
   "cell_type": "code",
   "outputs": [
    {
     "name": "stdout",
     "output_type": "stream",
     "text": [
      "Waiting for trigger to start task3\n",
      "Start task1Start task2\n",
      "\n",
      "Task2 running:Task1 running:  00\n",
      "Task2 running:Task1 running:  11\n",
      "Triggering task3 at iteration 1Task1 running:\n",
      " 2Start task3\n",
      "\n",
      "Task3 running: 0\n",
      "Task2 running: 2Task1 running:\n",
      " 3\n",
      "Task3 running: 1\n",
      "Task2 running: Task1 running:3\n",
      " 4\n",
      "Task3 running: 2\n",
      "Triggering task3 at iteration 3\n",
      "Task3 running: 3\n",
      "Task2 running: 4\n",
      "Task3 running: 4\n"
     ]
    }
   ],
   "source": [
    "import multiprocessing\n",
    "import time\n",
    "\n",
    "# 定义任务进程1\n",
    "def task1():\n",
    "    print(\"Start task1\")\n",
    "    for i in range(5):\n",
    "        print(\"Task1 running:\", i)\n",
    "        time.sleep(1)  # 模拟任务执行\n",
    "\n",
    "# 定义任务进程2\n",
    "def task2(trigger_event):\n",
    "    print(\"Start task2\")\n",
    "    for i in range(5):\n",
    "        print(\"Task2 running:\", i)\n",
    "        time.sleep(1)  # 模拟任务执行\n",
    "\n",
    "        # 当任务2完成部分时，触发任务3\n",
    "        if i in [1, 3]:  # 多次触发条件\n",
    "            print(f\"Triggering task3 at iteration {i}\")\n",
    "            trigger_event.set()\n",
    "            # 清除事件，以便可以再次触发\n",
    "            time.sleep(1)  # 模拟触发后的一些时间延迟\n",
    "            trigger_event.clear()\n",
    "\n",
    "# 定义任务进程3\n",
    "def task3(trigger_event):\n",
    "    print(\"Waiting for trigger to start task3\")\n",
    "    while True:\n",
    "        trigger_event.wait()  # 等待触发事件\n",
    "        print(\"Start task3\")\n",
    "        for i in range(5):\n",
    "            print(\"Task3 running:\", i)\n",
    "            time.sleep(1)  # 模拟任务执行\n",
    "        # 任务3运行完后清除标志以准备下一次触发\n",
    "        trigger_event.clear()\n",
    "\n",
    "# 创建一个事件对象，用于进程间的触发\n",
    "trigger_event = multiprocessing.Event()\n",
    "\n",
    "# 创建并启动进程\n",
    "process1 = multiprocessing.Process(target=task1)\n",
    "process2 = multiprocessing.Process(target=task2, args=(trigger_event,))\n",
    "process3 = multiprocessing.Process(target=task3, args=(trigger_event,))\n",
    "\n",
    "process1.start()\n",
    "process2.start()\n",
    "process3.start()\n",
    "\n",
    "# 等待所有进程完成\n",
    "process1.join()\n",
    "process2.join()\n",
    "process3.join()"
   ],
   "metadata": {
    "collapsed": false,
    "is_executing": true,
    "ExecuteTime": {
     "start_time": "2024-08-20T14:48:52.442201Z"
    }
   },
   "id": "84b2aad72cccad98",
   "execution_count": null
  },
  {
   "cell_type": "code",
   "outputs": [],
   "source": [],
   "metadata": {
    "collapsed": false
   },
   "id": "6306828022a33898"
  }
 ],
 "metadata": {
  "kernelspec": {
   "display_name": "Python 3",
   "language": "python",
   "name": "python3"
  },
  "language_info": {
   "codemirror_mode": {
    "name": "ipython",
    "version": 2
   },
   "file_extension": ".py",
   "mimetype": "text/x-python",
   "name": "python",
   "nbconvert_exporter": "python",
   "pygments_lexer": "ipython2",
   "version": "2.7.6"
  }
 },
 "nbformat": 4,
 "nbformat_minor": 5
}
