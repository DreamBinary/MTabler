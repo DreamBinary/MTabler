{
 "cells": [
  {
   "cell_type": "code",
   "outputs": [],
   "source": [
    "def tmp():\n",
    "    print(t)"
   ],
   "metadata": {
    "collapsed": false,
    "ExecuteTime": {
     "end_time": "2024-09-03T12:35:36.893691Z",
     "start_time": "2024-09-03T12:35:36.885626Z"
    }
   },
   "id": "17a43735640c031f",
   "execution_count": 1
  },
  {
   "cell_type": "code",
   "outputs": [
    {
     "name": "stdout",
     "output_type": "stream",
     "text": [
      "fasdf\n"
     ]
    }
   ],
   "source": [
    "t = \"fasdf\"\n",
    "tmp()"
   ],
   "metadata": {
    "collapsed": false,
    "ExecuteTime": {
     "end_time": "2024-09-03T12:35:36.909947Z",
     "start_time": "2024-09-03T12:35:36.903404Z"
    }
   },
   "id": "5ab3680718d10bd2",
   "execution_count": 2
  },
  {
   "cell_type": "code",
   "outputs": [],
   "source": [],
   "metadata": {
    "collapsed": false,
    "ExecuteTime": {
     "end_time": "2024-09-03T12:35:36.920543Z",
     "start_time": "2024-09-03T12:35:36.916228Z"
    }
   },
   "id": "66985904904d87ff",
   "execution_count": 2
  },
  {
   "cell_type": "code",
   "outputs": [],
   "source": [],
   "metadata": {
    "collapsed": false
   },
   "id": "725e34d41aa8da3e"
  }
 ],
 "metadata": {
  "kernelspec": {
   "display_name": "Python 3",
   "language": "python",
   "name": "python3"
  },
  "language_info": {
   "codemirror_mode": {
    "name": "ipython",
    "version": 2
   },
   "file_extension": ".py",
   "mimetype": "text/x-python",
   "name": "python",
   "nbconvert_exporter": "python",
   "pygments_lexer": "ipython2",
   "version": "2.7.6"
  }
 },
 "nbformat": 4,
 "nbformat_minor": 5
}
